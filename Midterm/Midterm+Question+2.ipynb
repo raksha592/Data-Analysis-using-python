{
 "cells": [
  {
   "cell_type": "markdown",
   "metadata": {},
   "source": [
    "# Question 2"
   ]
  },
  {
   "cell_type": "code",
   "execution_count": 65,
   "metadata": {
    "collapsed": false
   },
   "outputs": [],
   "source": [
    "#retrieving archive data from NYT\n",
    "import requests\n",
    "import time\n",
    "import datetime\n",
    "import os\n",
    "import json\n",
    "import argparse\n",
    "q='sports'\n",
    "nyt_book=os.getenv('auth_key') #retrieve API key\n",
    "if not os.path.exists('Midterm/Data/Archives'):\n",
    "    os.makedirs('Midterm/Data/Archives/'+str(q)) #create dir to store json files\n",
    "else:\n",
    "    for i in range(2,3):\n",
    "        data=requests.get('https://api.nytimes.com/svc/archive/v1/2011/10.json?q='+str(q)+'&page='+str(i)+'&api-key=df4da5f06d8e4a9b87376b0b13362694').json()\n",
    "        with open('Midterm/Data/Archives/'+str(q)+'/'+str(i)+'.json','w')  as outfile:\n",
    "            json.dump(data,outfile) #collect Json files\n",
    "            time.sleep(0.75)"
   ]
  },
  {
   "cell_type": "code",
   "execution_count": 66,
   "metadata": {
    "collapsed": false
   },
   "outputs": [],
   "source": [
    "#create target folder to save json files\n",
    "import json, os\n",
    "src_loc='C:/Users/Raksha/Midterm/Data/Archives/sports/'\n",
    "tgt_loc='C:/Users/Raksha/Midterm/Data/Archives/sports_split/'\n",
    "if not os.path.exists(tgt_loc):\n",
    "    os.makedirs(tgt_loc)\n",
    "d=[]\n",
    "for filename in os.listdir(src_loc):\n",
    "    #print(filename)\n",
    "    if filename.endswith(\".json\"):\n",
    "        with open(src_loc+filename) as out:\n",
    "            d.append(json.load(out))"
   ]
  },
  {
   "cell_type": "code",
   "execution_count": 115,
   "metadata": {
    "collapsed": false
   },
   "outputs": [],
   "source": [
    "#get the data from the json files with the key as keywords\n",
    "sportsData={}\n",
    "path='Midterm/Data/Archives/sports_split/'\n",
    "for filename in os.listdir(path):\n",
    "    if(filename.endswith('.json')):\n",
    "        with open(path+filename,'r') as out:\n",
    "            data=json.load(out)\n",
    "            for i in range(len(data[\"keywords\"])):\n",
    "                valuee=data[\"keywords\"][i]['value']\n",
    "                monthdate=data['pub_date'][:7]\n",
    "                if(monthdate not in sportsData.keys()):\n",
    "                    sportsData[monthdate]={}\n",
    "                    if(valuee not in sportsData[monthdate].keys()):\n",
    "                        sportsData[monthdate][valuee]=1\n",
    "                    else:\n",
    "                        sportsData[monthdate][valuee]+=1\n",
    "                else:\n",
    "                    if(valuee not in sportsData[monthdate].keys()):\n",
    "                        sportsData[monthdate][valuee]=1\n",
    "                    else:\n",
    "                        sportsData[monthdate][valuee]+=1\n"
   ]
  },
  {
   "cell_type": "code",
   "execution_count": null,
   "metadata": {
    "collapsed": false
   },
   "outputs": [],
   "source": []
  },
  {
   "cell_type": "code",
   "execution_count": 103,
   "metadata": {
    "collapsed": true
   },
   "outputs": [],
   "source": [
    "import collections\n",
    "import re\n",
    "from collections import Counter"
   ]
  },
  {
   "cell_type": "code",
   "execution_count": null,
   "metadata": {
    "collapsed": false
   },
   "outputs": [],
   "source": [
    "\n"
   ]
  },
  {
   "cell_type": "code",
   "execution_count": 76,
   "metadata": {
    "collapsed": false
   },
   "outputs": [
    {
     "ename": "JSONDecodeError",
     "evalue": "Expecting value: line 1 column 1 (char 0)",
     "output_type": "error",
     "traceback": [
      "\u001b[0;31m---------------------------------------------------------------------------\u001b[0m",
      "\u001b[0;31mJSONDecodeError\u001b[0m                           Traceback (most recent call last)",
      "\u001b[0;32m<ipython-input-76-fac64dc71b74>\u001b[0m in \u001b[0;36m<module>\u001b[0;34m()\u001b[0m\n\u001b[1;32m     29\u001b[0m             \u001b[0mtime\u001b[0m\u001b[1;33m.\u001b[0m\u001b[0msleep\u001b[0m\u001b[1;33m(\u001b[0m\u001b[1;36m0.75\u001b[0m\u001b[1;33m)\u001b[0m\u001b[1;33m\u001b[0m\u001b[0m\n\u001b[1;32m     30\u001b[0m     \u001b[1;32mfor\u001b[0m \u001b[0mk\u001b[0m \u001b[1;32min\u001b[0m \u001b[0mrange\u001b[0m\u001b[1;33m(\u001b[0m\u001b[1;36m0\u001b[0m\u001b[1;33m,\u001b[0m\u001b[1;36m25\u001b[0m\u001b[1;33m)\u001b[0m\u001b[1;33m:\u001b[0m\u001b[1;33m\u001b[0m\u001b[0m\n\u001b[0;32m---> 31\u001b[0;31m         \u001b[0mdat\u001b[0m\u001b[1;33m=\u001b[0m\u001b[0mrequests\u001b[0m\u001b[1;33m.\u001b[0m\u001b[0mget\u001b[0m\u001b[1;33m(\u001b[0m\u001b[1;34m'https://api.nytimes.com/svc/search/v2/articlesearch.json?q='\u001b[0m\u001b[1;33m+\u001b[0m\u001b[0mstr\u001b[0m\u001b[1;33m(\u001b[0m\u001b[0mq\u001b[0m\u001b[1;33m)\u001b[0m\u001b[1;33m+\u001b[0m\u001b[1;34m'&begin_date=20161001'\u001b[0m\u001b[1;33m+\u001b[0m\u001b[1;34m'&end_date=201601231&page='\u001b[0m\u001b[1;33m+\u001b[0m\u001b[0mstr\u001b[0m\u001b[1;33m(\u001b[0m\u001b[0mk\u001b[0m\u001b[1;33m)\u001b[0m\u001b[1;33m+\u001b[0m\u001b[1;34m'&api-key=df4da5f06d8e4a9b87376b0b13362694'\u001b[0m\u001b[1;33m)\u001b[0m\u001b[1;33m.\u001b[0m\u001b[0mjson\u001b[0m\u001b[1;33m(\u001b[0m\u001b[1;33m)\u001b[0m\u001b[1;33m\u001b[0m\u001b[0m\n\u001b[0m\u001b[1;32m     32\u001b[0m         \u001b[1;32mwith\u001b[0m \u001b[0mopen\u001b[0m\u001b[1;33m(\u001b[0m\u001b[1;34m'Midterm/Data/ArticalSearch1/'\u001b[0m\u001b[1;33m+\u001b[0m\u001b[0mstr\u001b[0m\u001b[1;33m(\u001b[0m\u001b[0mq\u001b[0m\u001b[1;33m)\u001b[0m\u001b[1;33m+\u001b[0m\u001b[1;34m'/'\u001b[0m\u001b[1;33m+\u001b[0m\u001b[0mstr\u001b[0m\u001b[1;33m(\u001b[0m\u001b[0mi\u001b[0m\u001b[1;33m+\u001b[0m\u001b[1;36m1\u001b[0m\u001b[1;33m)\u001b[0m\u001b[1;33m+\u001b[0m\u001b[1;34m'.json'\u001b[0m\u001b[1;33m,\u001b[0m\u001b[1;34m'w'\u001b[0m\u001b[1;33m)\u001b[0m  \u001b[1;32mas\u001b[0m \u001b[0moutfile\u001b[0m\u001b[1;33m:\u001b[0m\u001b[1;33m\u001b[0m\u001b[0m\n\u001b[1;32m     33\u001b[0m             \u001b[0mjson\u001b[0m\u001b[1;33m.\u001b[0m\u001b[0mdump\u001b[0m\u001b[1;33m(\u001b[0m\u001b[0mdat\u001b[0m\u001b[1;33m,\u001b[0m\u001b[0moutfile\u001b[0m\u001b[1;33m)\u001b[0m\u001b[1;33m\u001b[0m\u001b[0m\n",
      "\u001b[0;32mC:\\Users\\Raksha\\Anaconda3\\lib\\site-packages\\requests\\models.py\u001b[0m in \u001b[0;36mjson\u001b[0;34m(self, **kwargs)\u001b[0m\n\u001b[1;32m    864\u001b[0m                     \u001b[1;31m# used.\u001b[0m\u001b[1;33m\u001b[0m\u001b[1;33m\u001b[0m\u001b[0m\n\u001b[1;32m    865\u001b[0m                     \u001b[1;32mpass\u001b[0m\u001b[1;33m\u001b[0m\u001b[0m\n\u001b[0;32m--> 866\u001b[0;31m         \u001b[1;32mreturn\u001b[0m \u001b[0mcomplexjson\u001b[0m\u001b[1;33m.\u001b[0m\u001b[0mloads\u001b[0m\u001b[1;33m(\u001b[0m\u001b[0mself\u001b[0m\u001b[1;33m.\u001b[0m\u001b[0mtext\u001b[0m\u001b[1;33m,\u001b[0m \u001b[1;33m**\u001b[0m\u001b[0mkwargs\u001b[0m\u001b[1;33m)\u001b[0m\u001b[1;33m\u001b[0m\u001b[0m\n\u001b[0m\u001b[1;32m    867\u001b[0m \u001b[1;33m\u001b[0m\u001b[0m\n\u001b[1;32m    868\u001b[0m     \u001b[1;33m@\u001b[0m\u001b[0mproperty\u001b[0m\u001b[1;33m\u001b[0m\u001b[0m\n",
      "\u001b[0;32mC:\\Users\\Raksha\\Anaconda3\\lib\\json\\__init__.py\u001b[0m in \u001b[0;36mloads\u001b[0;34m(s, encoding, cls, object_hook, parse_float, parse_int, parse_constant, object_pairs_hook, **kw)\u001b[0m\n\u001b[1;32m    317\u001b[0m             \u001b[0mparse_int\u001b[0m \u001b[1;32mis\u001b[0m \u001b[1;32mNone\u001b[0m \u001b[1;32mand\u001b[0m \u001b[0mparse_float\u001b[0m \u001b[1;32mis\u001b[0m \u001b[1;32mNone\u001b[0m \u001b[1;32mand\u001b[0m\u001b[1;33m\u001b[0m\u001b[0m\n\u001b[1;32m    318\u001b[0m             parse_constant is None and object_pairs_hook is None and not kw):\n\u001b[0;32m--> 319\u001b[0;31m         \u001b[1;32mreturn\u001b[0m \u001b[0m_default_decoder\u001b[0m\u001b[1;33m.\u001b[0m\u001b[0mdecode\u001b[0m\u001b[1;33m(\u001b[0m\u001b[0ms\u001b[0m\u001b[1;33m)\u001b[0m\u001b[1;33m\u001b[0m\u001b[0m\n\u001b[0m\u001b[1;32m    320\u001b[0m     \u001b[1;32mif\u001b[0m \u001b[0mcls\u001b[0m \u001b[1;32mis\u001b[0m \u001b[1;32mNone\u001b[0m\u001b[1;33m:\u001b[0m\u001b[1;33m\u001b[0m\u001b[0m\n\u001b[1;32m    321\u001b[0m         \u001b[0mcls\u001b[0m \u001b[1;33m=\u001b[0m \u001b[0mJSONDecoder\u001b[0m\u001b[1;33m\u001b[0m\u001b[0m\n",
      "\u001b[0;32mC:\\Users\\Raksha\\Anaconda3\\lib\\json\\decoder.py\u001b[0m in \u001b[0;36mdecode\u001b[0;34m(self, s, _w)\u001b[0m\n\u001b[1;32m    337\u001b[0m \u001b[1;33m\u001b[0m\u001b[0m\n\u001b[1;32m    338\u001b[0m         \"\"\"\n\u001b[0;32m--> 339\u001b[0;31m         \u001b[0mobj\u001b[0m\u001b[1;33m,\u001b[0m \u001b[0mend\u001b[0m \u001b[1;33m=\u001b[0m \u001b[0mself\u001b[0m\u001b[1;33m.\u001b[0m\u001b[0mraw_decode\u001b[0m\u001b[1;33m(\u001b[0m\u001b[0ms\u001b[0m\u001b[1;33m,\u001b[0m \u001b[0midx\u001b[0m\u001b[1;33m=\u001b[0m\u001b[0m_w\u001b[0m\u001b[1;33m(\u001b[0m\u001b[0ms\u001b[0m\u001b[1;33m,\u001b[0m \u001b[1;36m0\u001b[0m\u001b[1;33m)\u001b[0m\u001b[1;33m.\u001b[0m\u001b[0mend\u001b[0m\u001b[1;33m(\u001b[0m\u001b[1;33m)\u001b[0m\u001b[1;33m)\u001b[0m\u001b[1;33m\u001b[0m\u001b[0m\n\u001b[0m\u001b[1;32m    340\u001b[0m         \u001b[0mend\u001b[0m \u001b[1;33m=\u001b[0m \u001b[0m_w\u001b[0m\u001b[1;33m(\u001b[0m\u001b[0ms\u001b[0m\u001b[1;33m,\u001b[0m \u001b[0mend\u001b[0m\u001b[1;33m)\u001b[0m\u001b[1;33m.\u001b[0m\u001b[0mend\u001b[0m\u001b[1;33m(\u001b[0m\u001b[1;33m)\u001b[0m\u001b[1;33m\u001b[0m\u001b[0m\n\u001b[1;32m    341\u001b[0m         \u001b[1;32mif\u001b[0m \u001b[0mend\u001b[0m \u001b[1;33m!=\u001b[0m \u001b[0mlen\u001b[0m\u001b[1;33m(\u001b[0m\u001b[0ms\u001b[0m\u001b[1;33m)\u001b[0m\u001b[1;33m:\u001b[0m\u001b[1;33m\u001b[0m\u001b[0m\n",
      "\u001b[0;32mC:\\Users\\Raksha\\Anaconda3\\lib\\json\\decoder.py\u001b[0m in \u001b[0;36mraw_decode\u001b[0;34m(self, s, idx)\u001b[0m\n\u001b[1;32m    355\u001b[0m             \u001b[0mobj\u001b[0m\u001b[1;33m,\u001b[0m \u001b[0mend\u001b[0m \u001b[1;33m=\u001b[0m \u001b[0mself\u001b[0m\u001b[1;33m.\u001b[0m\u001b[0mscan_once\u001b[0m\u001b[1;33m(\u001b[0m\u001b[0ms\u001b[0m\u001b[1;33m,\u001b[0m \u001b[0midx\u001b[0m\u001b[1;33m)\u001b[0m\u001b[1;33m\u001b[0m\u001b[0m\n\u001b[1;32m    356\u001b[0m         \u001b[1;32mexcept\u001b[0m \u001b[0mStopIteration\u001b[0m \u001b[1;32mas\u001b[0m \u001b[0merr\u001b[0m\u001b[1;33m:\u001b[0m\u001b[1;33m\u001b[0m\u001b[0m\n\u001b[0;32m--> 357\u001b[0;31m             \u001b[1;32mraise\u001b[0m \u001b[0mJSONDecodeError\u001b[0m\u001b[1;33m(\u001b[0m\u001b[1;34m\"Expecting value\"\u001b[0m\u001b[1;33m,\u001b[0m \u001b[0ms\u001b[0m\u001b[1;33m,\u001b[0m \u001b[0merr\u001b[0m\u001b[1;33m.\u001b[0m\u001b[0mvalue\u001b[0m\u001b[1;33m)\u001b[0m \u001b[1;32mfrom\u001b[0m \u001b[1;32mNone\u001b[0m\u001b[1;33m\u001b[0m\u001b[0m\n\u001b[0m\u001b[1;32m    358\u001b[0m         \u001b[1;32mreturn\u001b[0m \u001b[0mobj\u001b[0m\u001b[1;33m,\u001b[0m \u001b[0mend\u001b[0m\u001b[1;33m\u001b[0m\u001b[0m\n",
      "\u001b[0;31mJSONDecodeError\u001b[0m: Expecting value: line 1 column 1 (char 0)"
     ]
    }
   ],
   "source": [
    "#retrieving article search data from NYT\n",
    "import requests\n",
    "import time\n",
    "import datetime\n",
    "import os\n",
    "import json\n",
    "q='Obama'\n",
    "#s='20150101'\n",
    "#end = '20160101'\n",
    "\n",
    "if not os.path.exists('Midterm/Data/ArticalSearch1/'+str(q)):\n",
    "    os.makedirs('Midterm/Data/ArticalSearch1/'+str(q))\n",
    "else:\n",
    "    for i in range(0,25):\n",
    "        dat=requests.get('https://api.nytimes.com/svc/search/v2/articlesearch.json?q='+str(q)+'&begin_date=20160101&end_date=20160331&page='+str(i)+'&api-key=df4da5f06d8e4a9b87376b0b13362694').json()\n",
    "        with open('Midterm/Data/ArticalSearch1/'+str(q)+'/'+str(i)+'.json','w')  as outfile:\n",
    "            json.dump(dat,outfile) #articles from jan to march\n",
    "            time.sleep(0.75)\n",
    "    for k in range(0,25):\n",
    "        dat=requests.get('https://api.nytimes.com/svc/search/v2/articlesearch.json?q='+str(q)+'&begin_date=20160401'+'&end_date=20160630&page='+str(k)+'&api-key=df4da5f06d8e4a9b87376b0b13362694').json()\n",
    "        with open('Midterm/Data/ArticalSearch1/'+str(q)+'/'+str(i+1)+'.json','w')  as outfile:\n",
    "            json.dump(dat,outfile) #articles from april to june\n",
    "            i=i+1\n",
    "            time.sleep(0.75)\n",
    "    for k in range(0,25):\n",
    "        dat=requests.get('https://api.nytimes.com/svc/search/v2/articlesearch.json?q='+str(q)+'&begin_date=20160701'+'&end_date=20160930&page='+str(k)+'&api-key=df4da5f06d8e4a9b87376b0b13362694').json()\n",
    "        with open('Midterm/Data/ArticalSearch1/'+str(q)+'/'+str(i+1)+'.json','w')  as outfile:\n",
    "            json.dump(dat,outfile) #articles from july to sep\n",
    "            i=i+1\n",
    "            time.sleep(0.75)\n",
    "    for k in range(0,25):\n",
    "        dat=requests.get('https://api.nytimes.com/svc/search/v2/articlesearch.json?q='+str(q)+'&begin_date=20161001'+'&end_date=201601231&page='+str(k)+'&api-key=df4da5f06d8e4a9b87376b0b13362694').json()\n",
    "        with open('Midterm/Data/ArticalSearch1/'+str(q)+'/'+str(i+1)+'.json','w')  as outfile:\n",
    "            json.dump(dat,outfile) #articles from oct to dec\n",
    "            i=i+1\n",
    "            time.sleep(0.75)"
   ]
  },
  {
   "cell_type": "code",
   "execution_count": 77,
   "metadata": {
    "collapsed": false
   },
   "outputs": [],
   "source": [
    "\n",
    "        "
   ]
  },
  {
   "cell_type": "code",
   "execution_count": 85,
   "metadata": {
    "collapsed": false
   },
   "outputs": [],
   "source": [
    "#create target folder to save JSON files, splitting the files\n",
    "import json, os\n",
    "src_loc='C:/Users/Raksha/Midterm/Data/ArticalSearch1/Obama/'\n",
    "tgt_loc='C:/Users/Raksha/Midterm/Data/ArticalSearch1/Obama_split'\n",
    "if not os.path.exists(tgt_loc):\n",
    "    os.makedirs(tgt_loc)\n",
    "d=[]\n",
    "for filename in os.listdir(src_loc):\n",
    "    if filename.endswith(\".json\"):\n",
    "        with open(src_loc+filename) as out:\n",
    "            d.append(json.load(out))"
   ]
  },
  {
   "cell_type": "code",
   "execution_count": 86,
   "metadata": {
    "collapsed": false
   },
   "outputs": [],
   "source": [
    "#Save all the json files\n",
    "for j in range(0,len(d)):\n",
    "    if('response' in d[j].keys()):\n",
    "        for i in range(0,len(d[j]['response']['docs'])):\n",
    "            pubdate=d[j]['response']['docs'][i]['pub_date'][:10]\n",
    "            with open(tgt_loc+'/'+str(d[j]['response']['docs'][i]['_id'])+'-'+str(pubdate)+'.json','w') as outfile:\n",
    "                json.dump(d[j]['response']['docs'][i],outfile)"
   ]
  },
  {
   "cell_type": "code",
   "execution_count": 111,
   "metadata": {
    "collapsed": false
   },
   "outputs": [],
   "source": [
    "#dictionary having all the keywords of the data retrieved from article search\n",
    "obamaData={}\n",
    "path='Midterm/Data/ArticalSearch1/Obama_split/'\n",
    "for filename in os.listdir(path):\n",
    "    if(filename.endswith('.json')):\n",
    "        with open(path+filename,'r') as out:\n",
    "            data=json.load(out)\n",
    "            for i in range(len(data[\"keywords\"])):\n",
    "                valuee=data[\"keywords\"][i]['value']\n",
    "                monthdate=data['pub_date'][:7]\n",
    "                if(monthdate not in obamaData.keys()):\n",
    "                    obamaData[monthdate]={}\n",
    "                    if(valuee not in obamaData[monthdate].keys()):\n",
    "                        obamaData[monthdate][valuee]=1\n",
    "                    else:\n",
    "                        obamaData[monthdate][valuee]+=1\n",
    "                else:\n",
    "                    if(valuee not in obamaData[monthdate].keys()):\n",
    "                        obamaData[monthdate][valuee]=1\n",
    "                    else:\n",
    "                        obamaData[monthdate][valuee]+=1\n"
   ]
  },
  {
   "cell_type": "markdown",
   "metadata": {},
   "source": [
    "## Analysis 1: Creating a dataframe to store all the data retrieved from article search"
   ]
  },
  {
   "cell_type": "code",
   "execution_count": 159,
   "metadata": {
    "collapsed": false
   },
   "outputs": [
    {
     "data": {
      "text/html": [
       "<div>\n",
       "<table border=\"1\" class=\"dataframe\">\n",
       "  <thead>\n",
       "    <tr style=\"text-align: right;\">\n",
       "      <th></th>\n",
       "      <th>Jan</th>\n",
       "      <th>Feb</th>\n",
       "      <th>March</th>\n",
       "      <th>April</th>\n",
       "      <th>May</th>\n",
       "      <th>June</th>\n",
       "      <th>July</th>\n",
       "      <th>August</th>\n",
       "      <th>September</th>\n",
       "    </tr>\n",
       "  </thead>\n",
       "  <tbody>\n",
       "    <tr>\n",
       "      <th>ALLERGAN INC</th>\n",
       "      <td>NaN</td>\n",
       "      <td>NaN</td>\n",
       "      <td>NaN</td>\n",
       "      <td>2.0</td>\n",
       "      <td>NaN</td>\n",
       "      <td>NaN</td>\n",
       "      <td>NaN</td>\n",
       "      <td>NaN</td>\n",
       "      <td>NaN</td>\n",
       "    </tr>\n",
       "    <tr>\n",
       "      <th>Abadi, Haider al-</th>\n",
       "      <td>NaN</td>\n",
       "      <td>NaN</td>\n",
       "      <td>NaN</td>\n",
       "      <td>NaN</td>\n",
       "      <td>NaN</td>\n",
       "      <td>NaN</td>\n",
       "      <td>NaN</td>\n",
       "      <td>NaN</td>\n",
       "      <td>1.0</td>\n",
       "    </tr>\n",
       "    <tr>\n",
       "      <th>Abe, Shinzo</th>\n",
       "      <td>NaN</td>\n",
       "      <td>NaN</td>\n",
       "      <td>NaN</td>\n",
       "      <td>NaN</td>\n",
       "      <td>7.0</td>\n",
       "      <td>1.0</td>\n",
       "      <td>NaN</td>\n",
       "      <td>NaN</td>\n",
       "      <td>NaN</td>\n",
       "    </tr>\n",
       "    <tr>\n",
       "      <th>Aetna Inc</th>\n",
       "      <td>NaN</td>\n",
       "      <td>NaN</td>\n",
       "      <td>NaN</td>\n",
       "      <td>NaN</td>\n",
       "      <td>NaN</td>\n",
       "      <td>NaN</td>\n",
       "      <td>NaN</td>\n",
       "      <td>2.0</td>\n",
       "      <td>NaN</td>\n",
       "    </tr>\n",
       "    <tr>\n",
       "      <th>Afghan National Security Forces</th>\n",
       "      <td>NaN</td>\n",
       "      <td>1.0</td>\n",
       "      <td>NaN</td>\n",
       "      <td>NaN</td>\n",
       "      <td>NaN</td>\n",
       "      <td>NaN</td>\n",
       "      <td>NaN</td>\n",
       "      <td>NaN</td>\n",
       "      <td>NaN</td>\n",
       "    </tr>\n",
       "  </tbody>\n",
       "</table>\n",
       "</div>"
      ],
      "text/plain": [
       "                                 Jan  Feb  March  April  May  June  July  \\\n",
       "ALLERGAN INC                     NaN  NaN    NaN    2.0  NaN   NaN   NaN   \n",
       "Abadi, Haider al-                NaN  NaN    NaN    NaN  NaN   NaN   NaN   \n",
       "Abe, Shinzo                      NaN  NaN    NaN    NaN  7.0   1.0   NaN   \n",
       "Aetna Inc                        NaN  NaN    NaN    NaN  NaN   NaN   NaN   \n",
       "Afghan National Security Forces  NaN  1.0    NaN    NaN  NaN   NaN   NaN   \n",
       "\n",
       "                                 August  September  \n",
       "ALLERGAN INC                        NaN        NaN  \n",
       "Abadi, Haider al-                   NaN        1.0  \n",
       "Abe, Shinzo                         NaN        NaN  \n",
       "Aetna Inc                           2.0        NaN  \n",
       "Afghan National Security Forces     NaN        NaN  "
      ]
     },
     "execution_count": 159,
     "metadata": {},
     "output_type": "execute_result"
    }
   ],
   "source": [
    "import pandas as pd\n",
    "\n",
    "dataf1 = pd.DataFrame(obamaData)\n",
    "dataf1.columns = ['Jan', 'Feb', 'March', 'April', 'May', 'June', 'July', 'August', 'September']\n",
    "dataf1.head()"
   ]
  },
  {
   "cell_type": "markdown",
   "metadata": {},
   "source": [
    "## Analysis 2: Plot of the frequency of the coverage og topics in each month"
   ]
  },
  {
   "cell_type": "code",
   "execution_count": 160,
   "metadata": {
    "collapsed": false
   },
   "outputs": [
    {
     "data": {
      "image/png": "[encoded data removed]",
      "text/plain": [
       "<matplotlib.figure.Figure at 0x2ad98de85c0>"
      ]
     },
     "metadata": {},
     "output_type": "display_data"
    }
   ],
   "source": [
    "import matplotlib.pyplot as plt\n",
    "dataf1.plot(subplots=True, layout=(2, -1), figsize=(20, 20), sharex=False);\n",
    "plt.show()"
   ]
  },
  {
   "cell_type": "markdown",
   "metadata": {},
   "source": [
    "## Analysis 3: Creating a dataframe to store all the data retrieved from article search"
   ]
  },
  {
   "cell_type": "code",
   "execution_count": 172,
   "metadata": {
    "collapsed": false
   },
   "outputs": [
    {
     "data": {
      "text/html": [
       "<div>\n",
       "<table border=\"1\" class=\"dataframe\">\n",
       "  <thead>\n",
       "    <tr style=\"text-align: right;\">\n",
       "      <th></th>\n",
       "      <th>2011-10</th>\n",
       "    </tr>\n",
       "  </thead>\n",
       "  <tbody>\n",
       "    <tr>\n",
       "      <th>\"60 Minutes\" (TV Program)</th>\n",
       "      <td>1</td>\n",
       "    </tr>\n",
       "    <tr>\n",
       "      <th>\"Footloose' (Movie)</th>\n",
       "      <td>1</td>\n",
       "    </tr>\n",
       "    <tr>\n",
       "      <th>1 World Trade Center (NYC)</th>\n",
       "      <td>1</td>\n",
       "    </tr>\n",
       "    <tr>\n",
       "      <th>1821 Comics</th>\n",
       "      <td>1</td>\n",
       "    </tr>\n",
       "    <tr>\n",
       "      <th>22nd Century Group Inc</th>\n",
       "      <td>1</td>\n",
       "    </tr>\n",
       "    <tr>\n",
       "      <th>3LD Art &amp; Technology Center</th>\n",
       "      <td>1</td>\n",
       "    </tr>\n",
       "    <tr>\n",
       "      <th>3M Company</th>\n",
       "      <td>1</td>\n",
       "    </tr>\n",
       "    <tr>\n",
       "      <th>401(k), 403(b) and 457 Plans</th>\n",
       "      <td>2</td>\n",
       "    </tr>\n",
       "    <tr>\n",
       "      <th>59E59 Theaters</th>\n",
       "      <td>1</td>\n",
       "    </tr>\n",
       "    <tr>\n",
       "      <th>60 Minutes (TV Program)</th>\n",
       "      <td>1</td>\n",
       "    </tr>\n",
       "    <tr>\n",
       "      <th>99 Cents Only Stores</th>\n",
       "      <td>1</td>\n",
       "    </tr>\n",
       "    <tr>\n",
       "      <th>99 Cents Only Stores|NDN|NYSE</th>\n",
       "      <td>1</td>\n",
       "    </tr>\n",
       "    <tr>\n",
       "      <th>A year in the woods</th>\n",
       "      <td>2</td>\n",
       "    </tr>\n",
       "    <tr>\n",
       "      <th>A123 Systems Inc</th>\n",
       "      <td>2</td>\n",
       "    </tr>\n",
       "    <tr>\n",
       "      <th>A123 Systems Inc|AONE|NASDAQ</th>\n",
       "      <td>2</td>\n",
       "    </tr>\n",
       "    <tr>\n",
       "      <th>AB Volvo</th>\n",
       "      <td>2</td>\n",
       "    </tr>\n",
       "    <tr>\n",
       "      <th>ABC Food</th>\n",
       "      <td>1</td>\n",
       "    </tr>\n",
       "    <tr>\n",
       "      <th>ABC Inc</th>\n",
       "      <td>22</td>\n",
       "    </tr>\n",
       "    <tr>\n",
       "      <th>ABC News</th>\n",
       "      <td>4</td>\n",
       "    </tr>\n",
       "    <tr>\n",
       "      <th>AES Corp</th>\n",
       "      <td>1</td>\n",
       "    </tr>\n",
       "    <tr>\n",
       "      <th>AIR France-KLM</th>\n",
       "      <td>1</td>\n",
       "    </tr>\n",
       "    <tr>\n",
       "      <th>AK Steel</th>\n",
       "      <td>1</td>\n",
       "    </tr>\n",
       "    <tr>\n",
       "      <th>AKRF Inc</th>\n",
       "      <td>1</td>\n",
       "    </tr>\n",
       "    <tr>\n",
       "      <th>AMC (TV Network)</th>\n",
       "      <td>7</td>\n",
       "    </tr>\n",
       "    <tr>\n",
       "      <th>AMC Networks Inc</th>\n",
       "      <td>1</td>\n",
       "    </tr>\n",
       "    <tr>\n",
       "      <th>AMR Corporation</th>\n",
       "      <td>2</td>\n",
       "    </tr>\n",
       "    <tr>\n",
       "      <th>APPLE INC</th>\n",
       "      <td>1</td>\n",
       "    </tr>\n",
       "    <tr>\n",
       "      <th>APPLE INCORPORATED</th>\n",
       "      <td>1</td>\n",
       "    </tr>\n",
       "    <tr>\n",
       "      <th>ARM Holdings PLC</th>\n",
       "      <td>1</td>\n",
       "    </tr>\n",
       "    <tr>\n",
       "      <th>ARM Holdings PLC|ARMH|NASDAQ</th>\n",
       "      <td>1</td>\n",
       "    </tr>\n",
       "    <tr>\n",
       "      <th>...</th>\n",
       "      <td>...</td>\n",
       "    </tr>\n",
       "    <tr>\n",
       "      <th>development</th>\n",
       "      <td>1</td>\n",
       "    </tr>\n",
       "    <tr>\n",
       "      <th>eBay Inc</th>\n",
       "      <td>3</td>\n",
       "    </tr>\n",
       "    <tr>\n",
       "      <th>eBay Inc|EBAY|NASDAQ</th>\n",
       "      <td>1</td>\n",
       "    </tr>\n",
       "    <tr>\n",
       "      <th>epistemic principles</th>\n",
       "      <td>1</td>\n",
       "    </tr>\n",
       "    <tr>\n",
       "      <th>gambling</th>\n",
       "      <td>1</td>\n",
       "    </tr>\n",
       "    <tr>\n",
       "      <th>hackley school</th>\n",
       "      <td>1</td>\n",
       "    </tr>\n",
       "    <tr>\n",
       "      <th>iCloud</th>\n",
       "      <td>5</td>\n",
       "    </tr>\n",
       "    <tr>\n",
       "      <th>iOS</th>\n",
       "      <td>1</td>\n",
       "    </tr>\n",
       "    <tr>\n",
       "      <th>iPad</th>\n",
       "      <td>22</td>\n",
       "    </tr>\n",
       "    <tr>\n",
       "      <th>iPhone</th>\n",
       "      <td>63</td>\n",
       "    </tr>\n",
       "    <tr>\n",
       "      <th>iPod</th>\n",
       "      <td>8</td>\n",
       "    </tr>\n",
       "    <tr>\n",
       "      <th>iTunes</th>\n",
       "      <td>9</td>\n",
       "    </tr>\n",
       "    <tr>\n",
       "      <th>invertebrates</th>\n",
       "      <td>1</td>\n",
       "    </tr>\n",
       "    <tr>\n",
       "      <th>keystone xl</th>\n",
       "      <td>1</td>\n",
       "    </tr>\n",
       "    <tr>\n",
       "      <th>la Russa, Tony</th>\n",
       "      <td>36</td>\n",
       "    </tr>\n",
       "    <tr>\n",
       "      <th>n+1</th>\n",
       "      <td>1</td>\n",
       "    </tr>\n",
       "    <tr>\n",
       "      <th>overfishing</th>\n",
       "      <td>1</td>\n",
       "    </tr>\n",
       "    <tr>\n",
       "      <th>psychoanalysis</th>\n",
       "      <td>1</td>\n",
       "    </tr>\n",
       "    <tr>\n",
       "      <th>reason</th>\n",
       "      <td>1</td>\n",
       "    </tr>\n",
       "    <tr>\n",
       "      <th>recipe</th>\n",
       "      <td>1</td>\n",
       "    </tr>\n",
       "    <tr>\n",
       "      <th>shark fin soup</th>\n",
       "      <td>1</td>\n",
       "    </tr>\n",
       "    <tr>\n",
       "      <th>taxes</th>\n",
       "      <td>1</td>\n",
       "    </tr>\n",
       "    <tr>\n",
       "      <th>trash</th>\n",
       "      <td>1</td>\n",
       "    </tr>\n",
       "    <tr>\n",
       "      <th>van Doren, Adam</th>\n",
       "      <td>1</td>\n",
       "    </tr>\n",
       "    <tr>\n",
       "      <th>van Gogh, Vincent</th>\n",
       "      <td>2</td>\n",
       "    </tr>\n",
       "    <tr>\n",
       "      <th>van Hove, Ivo</th>\n",
       "      <td>1</td>\n",
       "    </tr>\n",
       "    <tr>\n",
       "      <th>van Noten, Dries</th>\n",
       "      <td>1</td>\n",
       "    </tr>\n",
       "    <tr>\n",
       "      <th>van der Beek, James</th>\n",
       "      <td>1</td>\n",
       "    </tr>\n",
       "    <tr>\n",
       "      <th>von Furstenberg, Diane</th>\n",
       "      <td>1</td>\n",
       "    </tr>\n",
       "    <tr>\n",
       "      <th>wildlife conservation</th>\n",
       "      <td>1</td>\n",
       "    </tr>\n",
       "  </tbody>\n",
       "</table>\n",
       "<p>7951 rows × 1 columns</p>\n",
       "</div>"
      ],
      "text/plain": [
       "                               2011-10\n",
       "\"60 Minutes\" (TV Program)            1\n",
       "\"Footloose' (Movie)                  1\n",
       "1 World Trade Center (NYC)           1\n",
       "1821 Comics                          1\n",
       "22nd Century Group Inc               1\n",
       "3LD Art & Technology Center          1\n",
       "3M Company                           1\n",
       "401(k), 403(b) and 457 Plans         2\n",
       "59E59 Theaters                       1\n",
       "60 Minutes (TV Program)              1\n",
       "99 Cents Only Stores                 1\n",
       "99 Cents Only Stores|NDN|NYSE        1\n",
       "A year in the woods                  2\n",
       "A123 Systems Inc                     2\n",
       "A123 Systems Inc|AONE|NASDAQ         2\n",
       "AB Volvo                             2\n",
       "ABC Food                             1\n",
       "ABC Inc                             22\n",
       "ABC News                             4\n",
       "AES Corp                             1\n",
       "AIR France-KLM                       1\n",
       "AK Steel                             1\n",
       "AKRF Inc                             1\n",
       "AMC (TV Network)                     7\n",
       "AMC Networks Inc                     1\n",
       "AMR Corporation                      2\n",
       "APPLE INC                            1\n",
       "APPLE INCORPORATED                   1\n",
       "ARM Holdings PLC                     1\n",
       "ARM Holdings PLC|ARMH|NASDAQ         1\n",
       "...                                ...\n",
       "development                          1\n",
       "eBay Inc                             3\n",
       "eBay Inc|EBAY|NASDAQ                 1\n",
       "epistemic principles                 1\n",
       "gambling                             1\n",
       "hackley school                       1\n",
       "iCloud                               5\n",
       "iOS                                  1\n",
       "iPad                                22\n",
       "iPhone                              63\n",
       "iPod                                 8\n",
       "iTunes                               9\n",
       "invertebrates                        1\n",
       "keystone xl                          1\n",
       "la Russa, Tony                      36\n",
       "n+1                                  1\n",
       "overfishing                          1\n",
       "psychoanalysis                       1\n",
       "reason                               1\n",
       "recipe                               1\n",
       "shark fin soup                       1\n",
       "taxes                                1\n",
       "trash                                1\n",
       "van Doren, Adam                      1\n",
       "van Gogh, Vincent                    2\n",
       "van Hove, Ivo                        1\n",
       "van Noten, Dries                     1\n",
       "van der Beek, James                  1\n",
       "von Furstenberg, Diane               1\n",
       "wildlife conservation                1\n",
       "\n",
       "[7951 rows x 1 columns]"
      ]
     },
     "execution_count": 172,
     "metadata": {},
     "output_type": "execute_result"
    }
   ],
   "source": [
    "#store all the dictionary data into a dataframe\n",
    "import pandas as pd\n",
    "dataf = pd.DataFrame(sportsData)\n",
    "dataf"
   ]
  },
  {
   "cell_type": "markdown",
   "metadata": {},
   "source": [
    "## Analysis 4: Frequency plot of data retrieved from archive files"
   ]
  },
  {
   "cell_type": "code",
   "execution_count": 166,
   "metadata": {
    "collapsed": false
   },
   "outputs": [
    {
     "data": {
      "image/png": "[encoded data removed]",
      "text/plain": [
       "<matplotlib.figure.Figure at 0x2ad965c9b38>"
      ]
     },
     "metadata": {},
     "output_type": "display_data"
    }
   ],
   "source": [
    "import matplotlib.pyplot as plt\n",
    "dataf.plot(subplots=True, layout=(2, -1), figsize=(20, 20), sharex=True);\n",
    "plt.show()"
   ]
  },
  {
   "cell_type": "code",
   "execution_count": null,
   "metadata": {
    "collapsed": false
   },
   "outputs": [],
   "source": []
  },
  {
   "cell_type": "code",
   "execution_count": null,
   "metadata": {
    "collapsed": true
   },
   "outputs": [],
   "source": []
  }
 ],
 "metadata": {
  "anaconda-cloud": {},
  "kernelspec": {
   "display_name": "Python [conda root]",
   "language": "python",
   "name": "conda-root-py"
  },
  "language_info": {
   "codemirror_mode": {
    "name": "ipython",
    "version": 3
   },
   "file_extension": ".py",
   "mimetype": "text/x-python",
   "name": "python",
   "nbconvert_exporter": "python",
   "pygments_lexer": "ipython3",
   "version": "3.5.2"
  }
 },
 "nbformat": 4,
 "nbformat_minor": 1
}
