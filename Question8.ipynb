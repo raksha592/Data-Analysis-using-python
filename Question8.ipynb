{
 "cells": [
  {
   "cell_type": "markdown",
   "metadata": {},
   "source": [
    "# Question 8\n",
    "- Find out how many unusual words people speak in chat "
   ]
  },
  {
   "cell_type": "code",
   "execution_count": 6,
   "metadata": {
    "collapsed": true
   },
   "outputs": [],
   "source": [
    "import nltk\n",
    "from nltk.corpus import words\n",
    "from nltk.corpus import nps_chat\n",
    "from nltk.corpus import stopwords"
   ]
  },
  {
   "cell_type": "code",
   "execution_count": 8,
   "metadata": {
    "collapsed": false
   },
   "outputs": [],
   "source": [
    "words.fileids()\n",
    "stopwords_list=stopwords.words('english')"
   ]
  },
  {
   "cell_type": "code",
   "execution_count": 9,
   "metadata": {
    "collapsed": false
   },
   "outputs": [
    {
     "name": "stdout",
     "output_type": "stream",
     "text": [
      "The number of unusual words in nps_chat are  5490\n"
     ]
    }
   ],
   "source": [
    "words1=words.words('en-basic')\n",
    "words2=words.words('en')\n",
    "words3=set(nps_chat.words())\n",
    "unusual={}\n",
    "\n",
    "for word3 in words3:\n",
    "    cn=0\n",
    "    for word1 in words1:\n",
    "        if(word3==word1):\n",
    "            cn+=1\n",
    "        else:\n",
    "            cn=cn\n",
    "    if(cn<=0 and word3 not in stopwords_list):\n",
    "        if(word3 not in unusual):\n",
    "            unusual[word3]=1\n",
    "        else:\n",
    "            unusual[word3]+=1\n",
    "print(\"The number of unusual words in nps_chat are \", len(unusual))"
   ]
  },
  {
   "cell_type": "code",
   "execution_count": null,
   "metadata": {
    "collapsed": true
   },
   "outputs": [],
   "source": []
  }
 ],
 "metadata": {
  "kernelspec": {
   "display_name": "Python [conda root]",
   "language": "python",
   "name": "conda-root-py"
  },
  "language_info": {
   "codemirror_mode": {
    "name": "ipython",
    "version": 3
   },
   "file_extension": ".py",
   "mimetype": "text/x-python",
   "name": "python",
   "nbconvert_exporter": "python",
   "pygments_lexer": "ipython3",
   "version": "3.5.2"
  }
 },
 "nbformat": 4,
 "nbformat_minor": 1
}
