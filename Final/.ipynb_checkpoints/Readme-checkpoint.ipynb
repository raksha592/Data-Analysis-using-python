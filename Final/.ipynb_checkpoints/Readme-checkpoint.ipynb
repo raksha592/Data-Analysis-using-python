{
 "cells": [
  {
   "cell_type": "markdown",
   "metadata": {},
   "source": [
    "# Analysis on college majors Data set"
   ]
  },
  {
   "cell_type": "markdown",
   "metadata": {},
   "source": [
    "The topic has always been debated on- \"Which major is considered best for a student, how would it make one successful?\" The college Majors Data set is the data from the American community survey which estimated median earnings for recent college graduates broken down by major. \n",
    "\n",
    "The Dataset consists of the following the data files:\n",
    "1. all-ages.csv: consists of data of students employed full-time, unemployement rates and median pay for all    age groups\n",
    "2. grad-students.csv: consists of data of students above the age of 25 who went to college, graduated/not graduated, employed/unemployed and the median pay. It also consists of data of students who did not take up a major in college but are employed in that field.\n",
    "3. iq-vs-salary-by-major.csv: This dataset consists of data of students by gender, average IQ, median pay.\n",
    "4. Percentage-bachelors-degrees-women-usa.csv: consists of data of percentage of women in each major through the years 1970-2012\n",
    "5. recent-grads.csv: consists of data of students below the age of 28 who went to college, graduated/not graduated, employed/unemployed and the median pay. It also consists of data of students who did not take up a major in college but are employed in that field.\n",
    "\n"
   ]
  },
  {
   "cell_type": "markdown",
   "metadata": {
    "collapsed": true
   },
   "source": [
    "**Analysis 1**:\n",
    "\n",
    "This analysis uses the dataset recent-grads.csv. Here, we calculate the total men and the total women in each major category. We also find the gender ratio. We plot bar graphs for the same using matplotlib.\n",
    "\n",
    "From this analysis, we see that, the number of women in Biology and life sciences,  Education, Health, Arts and Psychology are significantly higher. These major fields are dominated by the women.\n",
    "\n",
    "The gender ratio of the major fields like Engineering, Business, Law and public safety are much over 100. These major fields are mostly dominated by men"
   ]
  },
  {
   "cell_type": "markdown",
   "metadata": {},
   "source": [
    "**Analysis 2**:\n",
    "\n",
    "This analysis uses the dataset grad-students.csv. We find the number of students between the age group of 25-28. The findings are plotted on a bar graph.\n",
    "\n",
    "We see that the number of students between the age group 25-28 are maximum in the education major. Jounalism has least number of students in this age group."
   ]
  },
  {
   "cell_type": "markdown",
   "metadata": {},
   "source": [
    "**Analysis 3:**\n",
    "\n",
    "This is a pattern analysis of the data from grad-students.csv. We analyse the dataset to observe the following:\n",
    "\n",
    "+ The unemployment rates among non-grad students are always higher. Candodates who went to college had more chances of employment in every major.\n",
    "+ Among the candidates who were employed, The candidates in the business major were mostly non-grad candidates. \n",
    "+ Most of the grad students and non grad students in every major were employed with full-time jobs (>35 hours a week) and very few were employed with half time jobs"
   ]
  },
  {
   "cell_type": "markdown",
   "metadata": {},
   "source": [
    "**Analysis 4:**\n",
    "\n",
    "In this analysis, we find the total number of men and women in each major. We also find the number of women compared to median pay.\n",
    "\n",
    "+ The majors which are mostly dominated by women have lower median pay. Education is a major which is mostly dominated by women. But the median pay in this field is one of the lowest\n",
    "+ The majors dominated by men are mostly business and Engineering. These fields are the highest paid. "
   ]
  },
  {
   "cell_type": "markdown",
   "metadata": {},
   "source": [
    "**Analysis 5:**\n",
    "\n",
    "In this Analysis, we find the percentage of women in each major through the years. We also compare the avaerage IQ of candidates in each major as compared to the percentage of women.\n",
    "\n",
    "+ We notice that the number of women enrolled in each major has significantly increases. Especially in the Engineering and business major\n",
    "+ From the scatter plot, we observe that the majors having highest percentage of female have low average IQs."
   ]
  },
  {
   "cell_type": "code",
   "execution_count": null,
   "metadata": {
    "collapsed": true
   },
   "outputs": [],
   "source": []
  }
 ],
 "metadata": {
  "anaconda-cloud": {},
  "kernelspec": {
   "display_name": "Python [conda root]",
   "language": "python",
   "name": "conda-root-py"
  },
  "language_info": {
   "codemirror_mode": {
    "name": "ipython",
    "version": 3
   },
   "file_extension": ".py",
   "mimetype": "text/x-python",
   "name": "python",
   "nbconvert_exporter": "python",
   "pygments_lexer": "ipython3",
   "version": "3.5.2"
  }
 },
 "nbformat": 4,
 "nbformat_minor": 1
}
