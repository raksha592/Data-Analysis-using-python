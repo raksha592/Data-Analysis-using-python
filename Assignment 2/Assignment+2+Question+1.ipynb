{
 "cells": [
  {
   "cell_type": "markdown",
   "metadata": {},
   "source": [
    "# Question 1\n",
    "To demonstrate the working and correctness of Zipf law.\n",
    "Given any corpus of natural language, the frequency of any given word is inversely proportional to its rank.\n",
    "If N is the total  number of words, r is the rank, then\n",
    "Prob(r)=freq(r)/N\n",
    "where freq(r) is the frequency of the occurance of the word"
   ]
  },
  {
   "cell_type": "code",
   "execution_count": 42,
   "metadata": {
    "collapsed": false
   },
   "outputs": [
    {
     "data": {
      "text/plain": [
       "['austen-emma.txt',\n",
       " 'austen-persuasion.txt',\n",
       " 'austen-sense.txt',\n",
       " 'bible-kjv.txt',\n",
       " 'blake-poems.txt',\n",
       " 'bryant-stories.txt',\n",
       " 'burgess-busterbrown.txt',\n",
       " 'carroll-alice.txt',\n",
       " 'chesterton-ball.txt',\n",
       " 'chesterton-brown.txt',\n",
       " 'chesterton-thursday.txt',\n",
       " 'edgeworth-parents.txt',\n",
       " 'melville-moby_dick.txt',\n",
       " 'milton-paradise.txt',\n",
       " 'shakespeare-caesar.txt',\n",
       " 'shakespeare-hamlet.txt',\n",
       " 'shakespeare-macbeth.txt',\n",
       " 'whitman-leaves.txt']"
      ]
     },
     "execution_count": 42,
     "metadata": {},
     "output_type": "execute_result"
    }
   ],
   "source": [
    "import nltk\n",
    "from nltk.corpus import gutenberg\n",
    "import collections\n",
    "import re\n",
    "import glob\n",
    "import csv\n",
    "import matplotlib.pyplot as pp\n",
    "from collections import Counter\n",
    "from nltk.corpus import stopwords\n",
    "gutenberg.fileids()"
   ]
  },
  {
   "cell_type": "code",
   "execution_count": 43,
   "metadata": {
    "collapsed": false
   },
   "outputs": [],
   "source": [
    "path =  nltk.data.find('corpora/gutenberg/austen-emma.txt')\n",
    "data = glob.glob(path)\n",
    "for words in data:\n",
    "    with open(words) as text:\n",
    "        t = text.read()"
   ]
  },
  {
   "cell_type": "code",
   "execution_count": 44,
   "metadata": {
    "collapsed": false
   },
   "outputs": [
    {
     "name": "stdout",
     "output_type": "stream",
     "text": [
      "120701\n"
     ]
    }
   ],
   "source": [
    "#Function to find the total frequency of words\n",
    "def totalFrequency(l):\n",
    "    N=len(l)\n",
    "    return N\n",
    "words = re.findall(r'(\\b[A-Za-z][a-z]{2,9}\\b)',t )\n",
    "print(totalFrequency(words))"
   ]
  },
  {
   "cell_type": "code",
   "execution_count": 45,
   "metadata": {
    "collapsed": false
   },
   "outputs": [],
   "source": [
    "d=dict()\n",
    "for c in words:\n",
    "    if c not in d:\n",
    "        d[c]=1\n",
    "    else:\n",
    "        d[c] += 1\n",
    "#frequency of each word\n",
    "sorted_words = sorted(d.items(), key = lambda x : x[1] ,reverse = True)\n"
   ]
  },
  {
   "cell_type": "code",
   "execution_count": 46,
   "metadata": {
    "collapsed": false
   },
   "outputs": [],
   "source": [
    "with open(('austen-emma.csv'), 'w', newline=\"\") as csvfile:\n",
    "            csv_output = csv.writer(csvfile)\n",
    "            csv_output.writerow(['Word', 'Frequency', 'Rank'])\n",
    "            rank = 1\n",
    "            for row in sorted_words:\n",
    "                csv_output.writerow([row[0], row[1], rank])\n",
    "                rank +=1\n",
    "                csvfile.close"
   ]
  },
  {
   "cell_type": "code",
   "execution_count": 48,
   "metadata": {
    "collapsed": false
   },
   "outputs": [
    {
     "data": {
      "image/png": "[encoded data removed]",
      "text/plain": [
       "<matplotlib.figure.Figure at 0x2596846d550>"
      ]
     },
     "metadata": {},
     "output_type": "display_data"
    }
   ],
   "source": [
    "csvfile = open('austen-emma.csv', 'r')\n",
    "w=[]\n",
    "f=[]\n",
    "r=[]\n",
    "csv_f=csv.reader(csvfile)\n",
    "for row in csv_f:\n",
    "    w.append(row[0])\n",
    "    f.append(row[1])\n",
    "    r.append(row[2])\n",
    "r.pop(0)\n",
    "f.pop(0)\n",
    "plt.loglog(f,r,color='r',linewidth=2)\n",
    "plt.grid(True)\n",
    "plt.title(\"Zipf plot for Gutenberg corpus-austen-emma \")\n",
    "plt.xlabel(\"Log rank\")\n",
    "plt.ylabel(\"Log frequency\")\n",
    "plt.show()"
   ]
  },
  {
   "cell_type": "markdown",
   "metadata": {
    "collapsed": false
   },
   "source": [
    "Conclusion:\n",
    "Zipf law was demonstrated and the log-log representation for rank and frequency is as shown above. Zipf law hols goof for the corpus used."
   ]
  },
  {
   "cell_type": "code",
   "execution_count": null,
   "metadata": {
    "collapsed": false
   },
   "outputs": [],
   "source": []
  }
 ],
 "metadata": {
  "anaconda-cloud": {},
  "kernelspec": {
   "display_name": "Python [conda root]",
   "language": "python",
   "name": "conda-root-py"
  },
  "language_info": {
   "codemirror_mode": {
    "name": "ipython",
    "version": 3
   },
   "file_extension": ".py",
   "mimetype": "text/x-python",
   "name": "python",
   "nbconvert_exporter": "python",
   "pygments_lexer": "ipython3",
   "version": "3.5.2"
  }
 },
 "nbformat": 4,
 "nbformat_minor": 1
}
