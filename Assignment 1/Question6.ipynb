{
 "cells": [
  {
   "cell_type": "markdown",
   "metadata": {},
   "source": [
    "# Question 6\n",
    "- Under Inaugural Address package\n",
    "- For every president, find out how many unique words they used in speech"
   ]
  },
  {
   "cell_type": "code",
   "execution_count": 68,
   "metadata": {
    "collapsed": true
   },
   "outputs": [],
   "source": [
    "import nltk\n",
    "from nltk.corpus import inaugural"
   ]
  },
  {
   "cell_type": "code",
   "execution_count": 76,
   "metadata": {
    "collapsed": false
   },
   "outputs": [],
   "source": [
    "files=inaugural.fileids()"
   ]
  },
  {
   "cell_type": "code",
   "execution_count": 75,
   "metadata": {
    "collapsed": false
   },
   "outputs": [
    {
     "name": "stdout",
     "output_type": "stream",
     "text": [
      "Number of unique words used by Obama:  900\n",
      "The number of unique words used by President Bush:  1489\n",
      "The number of unique words used by President Washington:  378\n",
      "The number of unique words used by President Adam:  1092\n"
     ]
    }
   ],
   "source": [
    "#Unique words for Obama\n",
    "preswords=inaugural.words('2009-Obama.txt')\n",
    "lower_preswords=[presword.lower() for presword in preswords]\n",
    "print(\"Number of unique words used by Obama: \", len(set(lower_preswords)))\n",
    "\n",
    "#unique words for bush\n",
    "preswords2=inaugural.words('2005-Bush.txt')\n",
    "low_preswords2={presword2.lower() for presword2 in preswords2}\n",
    "preswords3=inaugural.words('2001-Bush.txt')\n",
    "low_preswords3={presword3.lower() for presword3 in preswords3}\n",
    "preswords4=inaugural.words('1989-Bush.txt')\n",
    "low_preswords4={presword4.lower() for presword4 in preswords4}\n",
    "count=0\n",
    "newWord={}\n",
    "for low_presword2 in low_preswords2:\n",
    "    if low_presword2 not in newWord:\n",
    "        newWord[low_presword2]=1\n",
    "        count+=1\n",
    "    else:\n",
    "        count=count\n",
    "for low_presword4 in low_preswords4:\n",
    "    if low_presword4 not in newWord:\n",
    "        newWord[low_presword4]=1\n",
    "        count+=1\n",
    "    else:\n",
    "        count=count\n",
    "for low_presword3 in low_preswords3:\n",
    "    if low_presword3 not in newWord:\n",
    "        newWord[low_presword3]=1\n",
    "        count+=1\n",
    "    else:\n",
    "        count=count\n",
    "print(\"The number of unique words used by President Bush: \",count)\n",
    "\n",
    "#Unique words for Washington\n",
    "washingtonWords1=inaugural.words('1789-Washington.txt')\n",
    "lw_washwords1={washingtonWord1.lower() for washingtonWord1 in washingtonWords1}\n",
    "washingtonWords2=inaugural.words('1793-Washington.txt')\n",
    "lw_washwords2={washingtonWord2.lower() for washingtonWord2 in washingtonWords2}\n",
    "count2=0\n",
    "newWord1={}\n",
    "for lw_washword1 in lw_washwords1:\n",
    "    if lw_washword1 not in newWord:\n",
    "        newWord1[lw_washword1]=1\n",
    "        count2+=1\n",
    "    else:\n",
    "        count2=count2\n",
    "for lw_washword2 in lw_washwords2:\n",
    "    if lw_washword2 not in newWord:\n",
    "        newWord1[lw_washword2]=1\n",
    "        count2+=1\n",
    "    else:\n",
    "        count2=count2\n",
    "print(\"The number of unique words used by President Washington: \",count2)\n",
    "\n",
    "#Unique words by Adams\n",
    "adamWords1=inaugural.words('1797-Adams.txt')\n",
    "lw_adamwords1={adamWord1.lower() for adamWord1 in adamWords1}\n",
    "adamWords2=inaugural.words('1825-Adams.txt')\n",
    "lw_adamwords2={adamWord2.lower() for adamWord2 in adamWords2}\n",
    "count3=0\n",
    "newWord2={}\n",
    "for lw_adamword1 in lw_adamwords1:\n",
    "    if lw_adamword1 not in newWord:\n",
    "        newWord2[lw_adamword1]=1\n",
    "        count3+=1\n",
    "    else:\n",
    "        count3=count3\n",
    "for lw_adamword2 in lw_adamwords2:\n",
    "    if lw_adamword2 not in newWord:\n",
    "        newWord2[lw_adamword2]=1\n",
    "        count3+=1\n",
    "    else:\n",
    "        count3=count3\n",
    "print(\"The number of unique words used by President Adam: \",count3)\n",
    "\n",
    "#Unique words by VanBuren\n"
   ]
  }
 ],
 "metadata": {
  "anaconda-cloud": {},
  "kernelspec": {
   "display_name": "Python [conda root]",
   "language": "python",
   "name": "conda-root-py"
  },
  "language_info": {
   "codemirror_mode": {
    "name": "ipython",
    "version": 3
   },
   "file_extension": ".py",
   "mimetype": "text/x-python",
   "name": "python",
   "nbconvert_exporter": "python",
   "pygments_lexer": "ipython3",
   "version": "3.5.2"
  }
 },
 "nbformat": 4,
 "nbformat_minor": 1
}
