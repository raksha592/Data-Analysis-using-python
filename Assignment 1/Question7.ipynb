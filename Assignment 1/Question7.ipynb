{
 "cells": [
  {
   "cell_type": "markdown",
   "metadata": {},
   "source": [
    "# Question 7\n",
    "- Use Name corpus, calculate the probability of a name being of a male or female base on the last character(s) of name"
   ]
  },
  {
   "cell_type": "code",
   "execution_count": 2,
   "metadata": {
    "collapsed": false
   },
   "outputs": [
    {
     "data": {
      "text/plain": [
       "['female.txt', 'male.txt']"
      ]
     },
     "execution_count": 2,
     "metadata": {},
     "output_type": "execute_result"
    }
   ],
   "source": [
    "import nltk\n",
    "from nltk.corpus import names\n",
    "names.fileids()"
   ]
  },
  {
   "cell_type": "code",
   "execution_count": 3,
   "metadata": {
    "collapsed": false
   },
   "outputs": [
    {
     "name": "stdout",
     "output_type": "stream",
     "text": [
      "The probability that a female name ends with ' a ' is  98.3906770255272 %\n",
      "The probability that a male name ends with ' a ' is  1.609322974472808 %\n",
      "The probability that a names which end with ' a ' is female\n",
      "The probability that a female name ends with ' b ' is  30.0 %\n",
      "The probability that a male name ends with ' b ' is  70.0 %\n",
      "The probability that a names which end with ' b ' is male\n",
      "The probability that a female name ends with ' c ' is  0.0 %\n",
      "The probability that a male name ends with ' c ' is  100.0 %\n",
      "The probability that a names which end with ' c ' is male\n",
      "The probability that a female name ends with ' d ' is  14.606741573033707 %\n",
      "The probability that a male name ends with ' d ' is  85.39325842696628 %\n",
      "The probability that a names which end with ' d ' is male\n",
      "The probability that a female name ends with ' e ' is  75.36842105263158 %\n",
      "The probability that a male name ends with ' e ' is  24.63157894736842 %\n",
      "The probability that a names which end with ' e ' is female\n",
      "The probability that a female name ends with ' f ' is  7.4074074074074066 %\n",
      "The probability that a male name ends with ' f ' is  92.5925925925926 %\n",
      "The probability that a names which end with ' f ' is male\n",
      "The probability that a female name ends with ' g ' is  23.809523809523807 %\n",
      "The probability that a male name ends with ' g ' is  76.19047619047619 %\n",
      "The probability that a names which end with ' g ' is male\n",
      "The probability that a female name ends with ' h ' is  53.03030303030303 %\n",
      "The probability that a male name ends with ' h ' is  46.96969696969697 %\n",
      "The probability that a names which end with ' h ' is female\n",
      "The probability that a female name ends with ' i ' is  86.37602179836512 %\n",
      "The probability that a male name ends with ' i ' is  13.623978201634879 %\n",
      "The probability that a names which end with ' i ' is female\n",
      "The probability that a female name ends with ' j ' is  25.0 %\n",
      "The probability that a male name ends with ' j ' is  75.0 %\n",
      "The probability that a names which end with ' j ' is male\n",
      "The probability that a female name ends with ' k ' is  4.166666666666666 %\n",
      "The probability that a male name ends with ' k ' is  95.83333333333334 %\n",
      "The probability that a names which end with ' k ' is male\n",
      "The probability that a female name ends with ' l ' is  48.90710382513661 %\n",
      "The probability that a male name ends with ' l ' is  51.09289617486339 %\n",
      "The probability that a names which end with ' l ' is male\n",
      "The probability that a female name ends with ' m ' is  15.66265060240964 %\n",
      "The probability that a male name ends with ' m ' is  84.33734939759037 %\n",
      "The probability that a names which end with ' m ' is male\n",
      "The probability that a female name ends with ' n ' is  44.675925925925924 %\n",
      "The probability that a male name ends with ' n ' is  55.32407407407407 %\n",
      "The probability that a names which end with ' n ' is male\n",
      "The probability that a female name ends with ' o ' is  16.666666666666664 %\n",
      "The probability that a male name ends with ' o ' is  83.33333333333334 %\n",
      "The probability that a names which end with ' o ' is male\n",
      "The probability that a female name ends with ' p ' is  10.0 %\n",
      "The probability that a male name ends with ' p ' is  90.0 %\n",
      "The probability that a names which end with ' p ' is male\n",
      "No names end with  q\n",
      "The probability that a female name ends with ' r ' is  19.831223628691983 %\n",
      "The probability that a male name ends with ' r ' is  80.16877637130801 %\n",
      "The probability that a names which end with ' r ' is male\n",
      "The probability that a female name ends with ' s ' is  28.792569659442723 %\n",
      "The probability that a male name ends with ' s ' is  71.20743034055728 %\n",
      "The probability that a names which end with ' s ' is male\n",
      "The probability that a female name ends with ' t ' is  29.310344827586203 %\n",
      "The probability that a male name ends with ' t ' is  70.6896551724138 %\n",
      "The probability that a names which end with ' t ' is male\n",
      "The probability that a female name ends with ' u ' is  33.33333333333333 %\n",
      "The probability that a male name ends with ' u ' is  66.66666666666666 %\n",
      "The probability that a names which end with ' u ' is male\n",
      "The probability that a female name ends with ' v ' is  11.11111111111111 %\n",
      "The probability that a male name ends with ' v ' is  88.88888888888889 %\n",
      "The probability that a names which end with ' v ' is male\n",
      "The probability that a female name ends with ' w ' is  22.727272727272727 %\n",
      "The probability that a male name ends with ' w ' is  77.27272727272727 %\n",
      "The probability that a names which end with ' w ' is male\n",
      "The probability that a female name ends with ' x ' is  50.0 %\n",
      "The probability that a male name ends with ' x ' is  50.0 %\n",
      "The probability that a names which end with ' x ' is male\n",
      "The probability that a female name ends with ' y ' is  58.13366960907944 %\n",
      "The probability that a male name ends with ' y ' is  41.86633039092055 %\n",
      "The probability that a names which end with ' y ' is female\n",
      "The probability that a female name ends with ' z ' is  26.666666666666668 %\n",
      "The probability that a male name ends with ' z ' is  73.33333333333333 %\n",
      "The probability that a names which end with ' z ' is male\n"
     ]
    }
   ],
   "source": [
    "endchar='abcdefghijklmnopqrstuvwxyz'\n",
    "femalenames=names.words('female.txt')\n",
    "low_femalenames= [femalename.lower() for femalename in femalenames]\n",
    "malenames=names.words('male.txt')\n",
    "low_malenames= [malename.lower() for malename in malenames]\n",
    "endcharlistfemale={}\n",
    "for i in range(26):\n",
    "    femalesum=0\n",
    "    malesum=0\n",
    "    totalsum=0\n",
    "    for femalename in low_femalenames:\n",
    "        if(femalename.endswith(endchar[i])):\n",
    "            femalesum=femalesum+1\n",
    "    for malename in low_malenames:\n",
    "        if(malename.endswith(endchar[i])):\n",
    "            malesum=malesum+1\n",
    "    if(femalesum==0 and malesum==0):\n",
    "        print(\"No names end with \",endchar[i])\n",
    "    else:\n",
    "        totalsum=malesum+femalesum\n",
    "        femaleprob=(femalesum/totalsum)*100\n",
    "        print(\"The probability that a female name ends with '\",endchar[i],\"' is \", femaleprob,\"%\")\n",
    "        maleprob=(malesum/totalsum)*100\n",
    "        print(\"The probability that a male name ends with '\",endchar[i],\"' is \", maleprob,\"%\")\n",
    "        if(femaleprob>maleprob):\n",
    "            print(\"The probability that a names which end with '\",endchar[i],\"' is female\")\n",
    "        else:\n",
    "            print(\"The probability that a names which end with '\",endchar[i],\"' is male\")"
   ]
  },
  {
   "cell_type": "code",
   "execution_count": null,
   "metadata": {
    "collapsed": true
   },
   "outputs": [],
   "source": []
  }
 ],
 "metadata": {
  "kernelspec": {
   "display_name": "Python [conda root]",
   "language": "python",
   "name": "conda-root-py"
  },
  "language_info": {
   "codemirror_mode": {
    "name": "ipython",
    "version": 3
   },
   "file_extension": ".py",
   "mimetype": "text/x-python",
   "name": "python",
   "nbconvert_exporter": "python",
   "pygments_lexer": "ipython3",
   "version": "3.5.2"
  }
 },
 "nbformat": 4,
 "nbformat_minor": 1
}
