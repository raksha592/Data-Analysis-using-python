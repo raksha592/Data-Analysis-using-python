{
 "cells": [
  {
   "cell_type": "markdown",
   "metadata": {},
   "source": [
    "## Question 2 Part 1:\n",
    "### Find out the highest paid departments in each organization group by calculating mean of total compensation for every department."
   ]
  },
  {
   "cell_type": "code",
   "execution_count": 30,
   "metadata": {
    "collapsed": true
   },
   "outputs": [],
   "source": [
    "import pandas as pd"
   ]
  },
  {
   "cell_type": "code",
   "execution_count": 31,
   "metadata": {
    "collapsed": false
   },
   "outputs": [],
   "source": [
    "df=pd.read_csv('C:/Users/Raksha/Desktop/Spring 2017/DATA Analysis/Intro to python/DataAnalysis4Python_Spring17/Assignments/Assignment 3/Data/employee_compensation.csv')"
   ]
  },
  {
   "cell_type": "code",
   "execution_count": 32,
   "metadata": {
    "collapsed": false
   },
   "outputs": [],
   "source": [
    "#Find each department and their corresponding Organization Group\n",
    "newOrganizationGroup=[]\n",
    "newDepartment=[]\n",
    "for index,rows in df.iterrows():\n",
    "    if((rows['Department'] not in newDepartment)):\n",
    "        newDepartment.append(rows['Department'])\n",
    "        newOrganizationGroup.append(rows['Organization Group'])"
   ]
  },
  {
   "cell_type": "code",
   "execution_count": 33,
   "metadata": {
    "collapsed": false
   },
   "outputs": [],
   "source": [
    "#Find the total Compensation of each Department\n",
    "totalCompensation=[0]*56\n",
    "j=[0]*56\n",
    "for index,rows in df.iterrows():\n",
    "    for i in range(1,(len(newDepartment)+1)):\n",
    "        if rows['Department']==newDepartment[i-1]:\n",
    "            totalCompensation[i-1]=rows['Total Compensation']+totalCompensation[i-1]\n",
    "            j[i-1]+=1\n",
    "    "
   ]
  },
  {
   "cell_type": "code",
   "execution_count": 34,
   "metadata": {
    "collapsed": true
   },
   "outputs": [],
   "source": [
    "#Find mean of the total Compensation of each department\n",
    "meanCompensation=[0]*56\n",
    "for k in range(1,(len(j)+1)):\n",
    "    meanCompensation[k-1]=totalCompensation[k-1]/j[k-1]"
   ]
  },
  {
   "cell_type": "code",
   "execution_count": 35,
   "metadata": {
    "collapsed": false
   },
   "outputs": [
    {
     "data": {
      "text/html": [
       "<div>\n",
       "<table border=\"1\" class=\"dataframe\">\n",
       "  <thead>\n",
       "    <tr style=\"text-align: right;\">\n",
       "      <th></th>\n",
       "      <th>Department</th>\n",
       "      <th>Organization Group</th>\n",
       "      <th>Total Compensation</th>\n",
       "    </tr>\n",
       "  </thead>\n",
       "  <tbody>\n",
       "    <tr>\n",
       "      <th>54</th>\n",
       "      <td>Law Library</td>\n",
       "      <td>Culture &amp; Recreation</td>\n",
       "      <td>188424.362222</td>\n",
       "    </tr>\n",
       "    <tr>\n",
       "      <th>20</th>\n",
       "      <td>Fire Department</td>\n",
       "      <td>Public Protection</td>\n",
       "      <td>180788.086979</td>\n",
       "    </tr>\n",
       "    <tr>\n",
       "      <th>35</th>\n",
       "      <td>City Attorney</td>\n",
       "      <td>General Administration &amp; Finance</td>\n",
       "      <td>166082.677561</td>\n",
       "    </tr>\n",
       "    <tr>\n",
       "      <th>26</th>\n",
       "      <td>Public Defender</td>\n",
       "      <td>Public Protection</td>\n",
       "      <td>147552.185739</td>\n",
       "    </tr>\n",
       "    <tr>\n",
       "      <th>18</th>\n",
       "      <td>Police</td>\n",
       "      <td>Public Protection</td>\n",
       "      <td>141263.701729</td>\n",
       "    </tr>\n",
       "  </tbody>\n",
       "</table>\n",
       "</div>"
      ],
      "text/plain": [
       "         Department                Organization Group  Total Compensation\n",
       "54      Law Library              Culture & Recreation       188424.362222\n",
       "20  Fire Department                 Public Protection       180788.086979\n",
       "35    City Attorney  General Administration & Finance       166082.677561\n",
       "26  Public Defender                 Public Protection       147552.185739\n",
       "18           Police                 Public Protection       141263.701729"
      ]
     },
     "execution_count": 35,
     "metadata": {},
     "output_type": "execute_result"
    }
   ],
   "source": [
    "df1=pd.DataFrame({'Organization Group':newOrganizationGroup,'Department':newDepartment,'Total Compensation':meanCompensation})\n",
    "df1=df1.sort_values(by='Total Compensation',ascending=False) #Sorting values from highest to lowest\n",
    "df1.head()"
   ]
  },
  {
   "cell_type": "code",
   "execution_count": 36,
   "metadata": {
    "collapsed": false
   },
   "outputs": [],
   "source": [
    "df1.to_csv('TotalComensation.csv', sep=';', encoding='utf-8')"
   ]
  },
  {
   "cell_type": "code",
   "execution_count": null,
   "metadata": {
    "collapsed": true
   },
   "outputs": [],
   "source": []
  }
 ],
 "metadata": {
  "anaconda-cloud": {},
  "kernelspec": {
   "display_name": "Python [conda root]",
   "language": "python",
   "name": "conda-root-py"
  },
  "language_info": {
   "codemirror_mode": {
    "name": "ipython",
    "version": 3
   },
   "file_extension": ".py",
   "mimetype": "text/x-python",
   "name": "python",
   "nbconvert_exporter": "python",
   "pygments_lexer": "ipython3",
   "version": "3.5.2"
  }
 },
 "nbformat": 4,
 "nbformat_minor": 1
}
