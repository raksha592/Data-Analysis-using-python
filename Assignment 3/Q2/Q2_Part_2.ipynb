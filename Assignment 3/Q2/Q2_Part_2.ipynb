{
 "cells": [
  {
   "cell_type": "markdown",
   "metadata": {},
   "source": [
    "## Question 2 Part 2:\n",
    "\n",
    "### Find the people whose overtime salary is greater than 5% of salaries (salaries refers to ’Salaries' column)\n",
    "\n",
    "### For each job family these people are associated with (job family refers to ’Job Family' column), calculate what is the percentage of total benefits with respect to total compensation (so for each job family you have to calculate average total benefits and average total compensation). Create a new column (Percent_total_benefit) which has the percentage value.\n"
   ]
  },
  {
   "cell_type": "code",
   "execution_count": 42,
   "metadata": {
    "collapsed": true
   },
   "outputs": [],
   "source": [
    "import pandas as pd"
   ]
  },
  {
   "cell_type": "code",
   "execution_count": 43,
   "metadata": {
    "collapsed": false
   },
   "outputs": [],
   "source": [
    "df=pd.read_csv('C:/Users/Raksha/Desktop/Spring 2017/DATA Analysis/Intro to python/DataAnalysis4Python_Spring17/Assignments/Assignment 3/Data/employee_compensation.csv')"
   ]
  },
  {
   "cell_type": "code",
   "execution_count": 44,
   "metadata": {
    "collapsed": true
   },
   "outputs": [],
   "source": [
    "#Find all the Unique Job Families\n",
    "UniqueJobFamilies=[]\n",
    "for index, rows in df.iterrows():\n",
    "    if(rows['Job Family'] not in UniqueJobFamilies):\n",
    "        UniqueJobFamilies.append(rows['Job Family'])\n",
    "    "
   ]
  },
  {
   "cell_type": "code",
   "execution_count": 45,
   "metadata": {
    "collapsed": false
   },
   "outputs": [
    {
     "data": {
      "text/plain": [
       "58"
      ]
     },
     "execution_count": 45,
     "metadata": {},
     "output_type": "execute_result"
    }
   ],
   "source": [
    "len(UniqueJobFamilies)"
   ]
  },
  {
   "cell_type": "code",
   "execution_count": 46,
   "metadata": {
    "collapsed": true
   },
   "outputs": [],
   "source": [
    "#Find the total Benefit and the Total Compensation of each Job Family\n",
    "TotalBenefit=[0]*58\n",
    "TotalCompensation=[0]*58\n",
    "total=[0]*58\n",
    "for index, rows in df.iterrows():\n",
    "    for i in range(1,59):\n",
    "        if((UniqueJobFamilies[i-1]==rows['Job Family']) and ((rows['Salaries']*(5/100))<rows['Overtime'])):\n",
    "            TotalBenefit[i-1]=TotalBenefit[i-1]+rows['Total Benefits']\n",
    "            TotalCompensation[i-1]=TotalCompensation[i-1]+rows['Total Compensation']\n",
    "            total[i-1]+=1"
   ]
  },
  {
   "cell_type": "code",
   "execution_count": 47,
   "metadata": {
    "collapsed": false
   },
   "outputs": [],
   "source": [
    "#Find the average Value of the Total Benefit and the Total Compensation of all the Job Families\n",
    "averageTotalBenefit=[0]*58\n",
    "averageTotalCompensation=[0]*58\n",
    "for i in range(1,(len(total)+1)):\n",
    "    if(total[i-1]!=0):\n",
    "        averageTotalBenefit[i-1]=TotalBenefit[i-1]/total[i-1]\n",
    "        averageTotalCompensation[i-1]=TotalCompensation[i-1]/total[i-1]\n",
    "    else:\n",
    "        averageTotalBenefit[i-1]=0\n",
    "        averageTotalCompensation[i-1]=0"
   ]
  },
  {
   "cell_type": "code",
   "execution_count": 48,
   "metadata": {
    "collapsed": false
   },
   "outputs": [],
   "source": [
    "#Percent of Total Benefit with respect to Total Compensation\n",
    "percentTotalBenefit=[0]*58\n",
    "for i in range(1,59):\n",
    "    if(averageTotalCompensation[i-1]!=0):\n",
    "        percentTotalBenefit[i-1]=(averageTotalBenefit[i-1]/averageTotalCompensation[i-1])*100\n",
    "    else:\n",
    "        percentTotalBenefit[i-1]=0"
   ]
  },
  {
   "cell_type": "code",
   "execution_count": 49,
   "metadata": {
    "collapsed": false
   },
   "outputs": [],
   "source": [
    "df1=pd.DataFrame({'Job Family':UniqueJobFamilies,'Total Benefit':averageTotalBenefit,'Total Compensation':averageTotalCompensation,'Percent_Total_Benefit':percentTotalBenefit})"
   ]
  },
  {
   "cell_type": "code",
   "execution_count": 50,
   "metadata": {
    "collapsed": false
   },
   "outputs": [],
   "source": [
    "df1=df1.sort_values(by='Percent_Total_Benefit',ascending=False)"
   ]
  },
  {
   "cell_type": "code",
   "execution_count": 51,
   "metadata": {
    "collapsed": false
   },
   "outputs": [
    {
     "data": {
      "text/html": [
       "<div>\n",
       "<table border=\"1\" class=\"dataframe\">\n",
       "  <thead>\n",
       "    <tr style=\"text-align: right;\">\n",
       "      <th></th>\n",
       "      <th>Job Family</th>\n",
       "      <th>Percent_Total_Benefit</th>\n",
       "      <th>Total Benefit</th>\n",
       "      <th>Total Compensation</th>\n",
       "    </tr>\n",
       "  </thead>\n",
       "  <tbody>\n",
       "    <tr>\n",
       "      <th>4</th>\n",
       "      <td>Public Service Aide</td>\n",
       "      <td>35.568013</td>\n",
       "      <td>12857.180831</td>\n",
       "      <td>36148.156177</td>\n",
       "    </tr>\n",
       "    <tr>\n",
       "      <th>10</th>\n",
       "      <td>Park &amp; Zoo</td>\n",
       "      <td>33.688169</td>\n",
       "      <td>23884.180615</td>\n",
       "      <td>70897.830000</td>\n",
       "    </tr>\n",
       "    <tr>\n",
       "      <th>45</th>\n",
       "      <td>Museum &amp; Cultural Affairs</td>\n",
       "      <td>33.681788</td>\n",
       "      <td>22192.448182</td>\n",
       "      <td>65888.570000</td>\n",
       "    </tr>\n",
       "    <tr>\n",
       "      <th>46</th>\n",
       "      <td>Appraisal &amp; Taxation</td>\n",
       "      <td>32.365190</td>\n",
       "      <td>3016.403333</td>\n",
       "      <td>9319.900000</td>\n",
       "    </tr>\n",
       "    <tr>\n",
       "      <th>41</th>\n",
       "      <td>Revenue</td>\n",
       "      <td>31.758258</td>\n",
       "      <td>18000.502712</td>\n",
       "      <td>56679.754407</td>\n",
       "    </tr>\n",
       "  </tbody>\n",
       "</table>\n",
       "</div>"
      ],
      "text/plain": [
       "                   Job Family  Percent_Total_Benefit  Total Benefit  \\\n",
       "4         Public Service Aide              35.568013   12857.180831   \n",
       "10                 Park & Zoo              33.688169   23884.180615   \n",
       "45  Museum & Cultural Affairs              33.681788   22192.448182   \n",
       "46       Appraisal & Taxation              32.365190    3016.403333   \n",
       "41                    Revenue              31.758258   18000.502712   \n",
       "\n",
       "    Total Compensation  \n",
       "4         36148.156177  \n",
       "10        70897.830000  \n",
       "45        65888.570000  \n",
       "46         9319.900000  \n",
       "41        56679.754407  "
      ]
     },
     "execution_count": 51,
     "metadata": {},
     "output_type": "execute_result"
    }
   ],
   "source": [
    "df1.head()"
   ]
  },
  {
   "cell_type": "code",
   "execution_count": 52,
   "metadata": {
    "collapsed": true
   },
   "outputs": [],
   "source": [
    "df1.to_csv('Percent_Total_Benefit.csv', sep=';', encoding='utf-8')"
   ]
  }
 ],
 "metadata": {
  "anaconda-cloud": {},
  "kernelspec": {
   "display_name": "Python [conda root]",
   "language": "python",
   "name": "conda-root-py"
  },
  "language_info": {
   "codemirror_mode": {
    "name": "ipython",
    "version": 3
   },
   "file_extension": ".py",
   "mimetype": "text/x-python",
   "name": "python",
   "nbconvert_exporter": "python",
   "pygments_lexer": "ipython3",
   "version": "3.5.2"
  }
 },
 "nbformat": 4,
 "nbformat_minor": 1
}
