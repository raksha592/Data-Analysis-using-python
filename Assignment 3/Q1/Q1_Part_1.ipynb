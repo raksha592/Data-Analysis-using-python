{
 "cells": [
  {
   "cell_type": "markdown",
   "metadata": {},
   "source": [
    "## Question 1 Part 1:\n",
    "### For each month in 2016, find out the percentage of collisions in Manhattan out of that year's total accidents in New York City"
   ]
  },
  {
   "cell_type": "code",
   "execution_count": 47,
   "metadata": {
    "collapsed": true
   },
   "outputs": [],
   "source": [
    "import pandas as pd\n",
    "import datetime"
   ]
  },
  {
   "cell_type": "code",
   "execution_count": 48,
   "metadata": {
    "collapsed": false
   },
   "outputs": [],
   "source": [
    "df=pd.read_csv('C:/Users/Raksha/Desktop/Spring 2017/DATA Analysis/Intro to python/DataAnalysis4Python_Spring17/Assignments/Assignment 3/Data/vehicle_collisions.csv')"
   ]
  },
  {
   "cell_type": "code",
   "execution_count": 49,
   "metadata": {
    "collapsed": false
   },
   "outputs": [],
   "source": [
    "#Since date is of type object, it has been converted to the type datetime\n",
    "df['DATE']=pd.to_datetime(df['DATE'], format='%m/%d/%y')"
   ]
  },
  {
   "cell_type": "code",
   "execution_count": 50,
   "metadata": {
    "collapsed": true
   },
   "outputs": [],
   "source": [
    "df_date=df['DATE']"
   ]
  },
  {
   "cell_type": "code",
   "execution_count": 51,
   "metadata": {
    "collapsed": false
   },
   "outputs": [],
   "source": [
    "#Extracting month and year from each date\n",
    "df['Month'] = df['DATE'].map(lambda x: x.month)\n",
    "df['Year'] = df['DATE'].map(lambda y: y.year)"
   ]
  },
  {
   "cell_type": "code",
   "execution_count": 52,
   "metadata": {
    "collapsed": false
   },
   "outputs": [
    {
     "data": {
      "text/plain": [
       "[18101,\n",
       " 15985,\n",
       " 18471,\n",
       " 18331,\n",
       " 20052,\n",
       " 19433,\n",
       " 19867,\n",
       " 19678,\n",
       " 19492,\n",
       " 19666,\n",
       " 19315,\n",
       " 19214]"
      ]
     },
     "execution_count": 52,
     "metadata": {},
     "output_type": "execute_result"
    }
   ],
   "source": [
    "#total collisions per month in NYC in 2016\n",
    "totalCollisionsPerMonthInNYC=[0,0,0,0,0,0,0,0,0,0,0,0]\n",
    "for x in range(1,13):\n",
    "    for y in df[df.Year==2016].Month:\n",
    "        if x==y:\n",
    "            totalCollisionsPerMonthInNYC[y-1]+=1\n",
    "totalCollisionsPerMonthInNYC\n",
    "        "
   ]
  },
  {
   "cell_type": "code",
   "execution_count": 53,
   "metadata": {
    "collapsed": false
   },
   "outputs": [
    {
     "data": {
      "text/plain": [
       "[3178, 3195, 3479, 3540, 3432, 2956, 3055, 2844, 2744, 2831, 2838, 2634]"
      ]
     },
     "execution_count": 53,
     "metadata": {},
     "output_type": "execute_result"
    }
   ],
   "source": [
    "#total collisions per month in manhattan in 2016\n",
    "totalCollisionsPerMonthInManhattan=[0,0,0,0,0,0,0,0,0,0,0,0]\n",
    "for index, rows in df.iterrows():\n",
    "    if((rows['BOROUGH']=='MANHATTAN')and(rows['Year']==2016)):\n",
    "        for i in range(1,13):\n",
    "            if i==rows['Month']:\n",
    "                totalCollisionsPerMonthInManhattan[i-1]+=1\n",
    "totalCollisionsPerMonthInManhattan"
   ]
  },
  {
   "cell_type": "code",
   "execution_count": 54,
   "metadata": {
    "collapsed": false
   },
   "outputs": [
    {
     "data": {
      "text/plain": [
       "[0.17557041047455943,\n",
       " 0.19987488270253362,\n",
       " 0.18834930431487196,\n",
       " 0.19311548742567236,\n",
       " 0.17115499700777978,\n",
       " 0.15211238614727526,\n",
       " 0.15377258770825994,\n",
       " 0.14452688281329404,\n",
       " 0.14077570285245228,\n",
       " 0.14395403234007934,\n",
       " 0.14693243593062386,\n",
       " 0.13708754033517226]"
      ]
     },
     "execution_count": 54,
     "metadata": {},
     "output_type": "execute_result"
    }
   ],
   "source": [
    "#percentage of collisions each month in manhattan in 2016\n",
    "percentageOfCollisionsPerMonth=[0,0,0,0,0,0,0,0,0,0,0,0]\n",
    "for i in range(1,13):\n",
    "    percentageOfCollisionsPerMonth[i-1]=(totalCollisionsPerMonthInManhattan[i-1]/totalCollisionsPerMonthInNYC[i-1])\n",
    "percentageOfCollisionsPerMonth\n",
    "    "
   ]
  },
  {
   "cell_type": "code",
   "execution_count": 55,
   "metadata": {
    "collapsed": false
   },
   "outputs": [
    {
     "data": {
      "text/html": [
       "<div>\n",
       "<table border=\"1\" class=\"dataframe\">\n",
       "  <thead>\n",
       "    <tr style=\"text-align: right;\">\n",
       "      <th></th>\n",
       "      <th>Manhattan</th>\n",
       "      <th>Month</th>\n",
       "      <th>NYC</th>\n",
       "      <th>Percentage</th>\n",
       "    </tr>\n",
       "  </thead>\n",
       "  <tbody>\n",
       "    <tr>\n",
       "      <th>0</th>\n",
       "      <td>3178</td>\n",
       "      <td>Jan</td>\n",
       "      <td>18101</td>\n",
       "      <td>0.175570</td>\n",
       "    </tr>\n",
       "    <tr>\n",
       "      <th>1</th>\n",
       "      <td>3195</td>\n",
       "      <td>Feb</td>\n",
       "      <td>15985</td>\n",
       "      <td>0.199875</td>\n",
       "    </tr>\n",
       "    <tr>\n",
       "      <th>2</th>\n",
       "      <td>3479</td>\n",
       "      <td>Mar</td>\n",
       "      <td>18471</td>\n",
       "      <td>0.188349</td>\n",
       "    </tr>\n",
       "    <tr>\n",
       "      <th>3</th>\n",
       "      <td>3540</td>\n",
       "      <td>Apr</td>\n",
       "      <td>18331</td>\n",
       "      <td>0.193115</td>\n",
       "    </tr>\n",
       "    <tr>\n",
       "      <th>4</th>\n",
       "      <td>3432</td>\n",
       "      <td>May</td>\n",
       "      <td>20052</td>\n",
       "      <td>0.171155</td>\n",
       "    </tr>\n",
       "  </tbody>\n",
       "</table>\n",
       "</div>"
      ],
      "text/plain": [
       "   Manhattan Month    NYC  Percentage\n",
       "0       3178   Jan  18101    0.175570\n",
       "1       3195   Feb  15985    0.199875\n",
       "2       3479   Mar  18471    0.188349\n",
       "3       3540   Apr  18331    0.193115\n",
       "4       3432   May  20052    0.171155"
      ]
     },
     "execution_count": 55,
     "metadata": {},
     "output_type": "execute_result"
    }
   ],
   "source": [
    "df1=pd.DataFrame({'Month':['Jan','Feb','Mar','Apr','May','Jun','Jul','Aug','Sep','Oct','Nov','Dec'],'Manhattan':totalCollisionsPerMonthInManhattan,'NYC':totalCollisionsPerMonthInNYC,'Percentage':percentageOfCollisionsPerMonth})\n",
    "df1.head()"
   ]
  },
  {
   "cell_type": "code",
   "execution_count": 56,
   "metadata": {
    "collapsed": true
   },
   "outputs": [],
   "source": [
    "df1.to_csv('PercentageOfCollisions.csv', sep=';', encoding='utf-8')"
   ]
  },
  {
   "cell_type": "code",
   "execution_count": null,
   "metadata": {
    "collapsed": true
   },
   "outputs": [],
   "source": []
  }
 ],
 "metadata": {
  "anaconda-cloud": {},
  "kernelspec": {
   "display_name": "Python [conda root]",
   "language": "python",
   "name": "conda-root-py"
  },
  "language_info": {
   "codemirror_mode": {
    "name": "ipython",
    "version": 3
   },
   "file_extension": ".py",
   "mimetype": "text/x-python",
   "name": "python",
   "nbconvert_exporter": "python",
   "pygments_lexer": "ipython3",
   "version": "3.5.2"
  }
 },
 "nbformat": 4,
 "nbformat_minor": 1
}
