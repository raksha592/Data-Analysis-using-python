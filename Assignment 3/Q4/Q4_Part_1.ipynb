{
 "cells": [
  {
   "cell_type": "markdown",
   "metadata": {},
   "source": [
    "## Question 4 part 1\n",
    "\n",
    "### You are supposed to extract data from the awards column in this dataset and split it into several columns"
   ]
  },
  {
   "cell_type": "code",
   "execution_count": 114,
   "metadata": {
    "collapsed": true
   },
   "outputs": [],
   "source": [
    "import pandas as pd"
   ]
  },
  {
   "cell_type": "code",
   "execution_count": 115,
   "metadata": {
    "collapsed": false
   },
   "outputs": [],
   "source": [
    "df=pd.read_csv('C:/Users/Raksha/Desktop/Spring 2017/DATA Analysis/Intro to python/DataAnalysis4Python_Spring17/Assignments/Assignment 3/Data/movies_awards.csv')"
   ]
  },
  {
   "cell_type": "code",
   "execution_count": 116,
   "metadata": {
    "collapsed": true
   },
   "outputs": [],
   "source": [
    "#Creating seperate columns for all award nominations and wins\n",
    "df['Awards_Won'] = df['Awards'].str.extract('(\\d+) win', expand=True)\n",
    "df['Awards_Nominated'] = df['Awards'].str.extract('(\\d+) nomination', expand=True)\n",
    "df['PrimeAwards_Won']= df['Awards'].str.extract('Won (\\d+) Primetime', expand=True)\n",
    "df['PrimeAwards_Nominations']= df['Awards'].str.extract('Nominated for (\\d+) Primetime', expand=True)\n",
    "df['BaftaAwards_Won']= df['Awards'].str.extract('Won (\\d+) BAFTA', expand=True)\n",
    "df['BaftaAwards_Nominations']= df['Awards'].str.extract('Nominated for (\\d+) BAFTA', expand=True)\n",
    "df['OscarAwards_Won']= df['Awards'].str.extract('Won (\\d+) Oscar', expand=True)\n",
    "df['OscarAwards_Nominations']= df['Awards'].str.extract('Nominated for (\\d+) Oscar', expand=True)\n",
    "df['GoldenGlobeAwards_Won']= df['Awards'].str.extract('Won (\\d+) Golden Globe', expand=True)\n",
    "df['GoldenGlobeAwards_Nominations']= df['Awards'].str.extract('Nominated for (\\d+) Golden Globe', expand=True)"
   ]
  },
  {
   "cell_type": "code",
   "execution_count": 117,
   "metadata": {
    "collapsed": false
   },
   "outputs": [],
   "source": [
    "awardsList=df[[15,21,22,23,24,25,26,27,28,29,30]]"
   ]
  },
  {
   "cell_type": "code",
   "execution_count": 118,
   "metadata": {
    "collapsed": false
   },
   "outputs": [],
   "source": [
    "df1 = awardsList.fillna(0)"
   ]
  },
  {
   "cell_type": "code",
   "execution_count": 119,
   "metadata": {
    "collapsed": false
   },
   "outputs": [],
   "source": [
    "#Convert all string values to int for every row of every column\n",
    "df1['Awards_Won'] = df1['Awards_Won'].astype(str).astype(int)\n",
    "df1['PrimeAwards_Won'] = df1['PrimeAwards_Won'].astype(str).astype(int)\n",
    "df1['BaftaAwards_Won']=df1['BaftaAwards_Won'].astype(str).astype(int) \n",
    "df1['OscarAwards_Won']=df1['OscarAwards_Won'].astype(str).astype(int) \n",
    "df1['GoldenGlobeAwards_Won']=df1['GoldenGlobeAwards_Won'].astype(str).astype(int)\n",
    "df1['Awards_Nominated'] =df1['Awards_Nominated'].astype(str).astype(int) \n",
    "df1['PrimeAwards_Nominations']=df1['PrimeAwards_Nominations'].astype(str).astype(int)\n",
    "df1['BaftaAwards_Nominations']=df1['BaftaAwards_Nominations'].astype(str).astype(int)\n",
    "df1['OscarAwards_Nominations']=df1['OscarAwards_Nominations'].astype(str).astype(int)  \n",
    "df1['GoldenGlobeAwards_Nominations']=df1['GoldenGlobeAwards_Nominations'].astype(str).astype(int)"
   ]
  },
  {
   "cell_type": "code",
   "execution_count": 120,
   "metadata": {
    "collapsed": false
   },
   "outputs": [],
   "source": [
    "#Total wins for the movie\n",
    "df1['Awards_Won'] = df1['Awards_Won']+df1['PrimeAwards_Won']+df1['BaftaAwards_Won']+df1['OscarAwards_Won']+df1['GoldenGlobeAwards_Won']"
   ]
  },
  {
   "cell_type": "code",
   "execution_count": 121,
   "metadata": {
    "collapsed": true
   },
   "outputs": [],
   "source": [
    "#total nominations\n",
    "df1['Awards_Nominated']=df1['Awards_Nominated']+df1['PrimeAwards_Nominations']+df1['BaftaAwards_Nominations']+df1['OscarAwards_Nominations']+df1['GoldenGlobeAwards_Nominations']"
   ]
  },
  {
   "cell_type": "code",
   "execution_count": 122,
   "metadata": {
    "collapsed": false
   },
   "outputs": [
    {
     "data": {
      "text/html": [
       "<div>\n",
       "<table border=\"1\" class=\"dataframe\">\n",
       "  <thead>\n",
       "    <tr style=\"text-align: right;\">\n",
       "      <th></th>\n",
       "      <th>Awards</th>\n",
       "      <th>Awards_Won</th>\n",
       "      <th>Awards_Nominated</th>\n",
       "      <th>PrimeAwards_Won</th>\n",
       "      <th>PrimeAwards_Nominations</th>\n",
       "      <th>BaftaAwards_Won</th>\n",
       "      <th>BaftaAwards_Nominations</th>\n",
       "      <th>OscarAwards_Won</th>\n",
       "      <th>OscarAwards_Nominations</th>\n",
       "      <th>GoldenGlobeAwards_Won</th>\n",
       "      <th>GoldenGlobeAwards_Nominations</th>\n",
       "    </tr>\n",
       "  </thead>\n",
       "  <tbody>\n",
       "    <tr>\n",
       "      <th>0</th>\n",
       "      <td>0</td>\n",
       "      <td>0</td>\n",
       "      <td>0</td>\n",
       "      <td>0</td>\n",
       "      <td>0</td>\n",
       "      <td>0</td>\n",
       "      <td>0</td>\n",
       "      <td>0</td>\n",
       "      <td>0</td>\n",
       "      <td>0</td>\n",
       "      <td>0</td>\n",
       "    </tr>\n",
       "    <tr>\n",
       "      <th>1</th>\n",
       "      <td>0</td>\n",
       "      <td>0</td>\n",
       "      <td>0</td>\n",
       "      <td>0</td>\n",
       "      <td>0</td>\n",
       "      <td>0</td>\n",
       "      <td>0</td>\n",
       "      <td>0</td>\n",
       "      <td>0</td>\n",
       "      <td>0</td>\n",
       "      <td>0</td>\n",
       "    </tr>\n",
       "    <tr>\n",
       "      <th>2</th>\n",
       "      <td>0</td>\n",
       "      <td>0</td>\n",
       "      <td>0</td>\n",
       "      <td>0</td>\n",
       "      <td>0</td>\n",
       "      <td>0</td>\n",
       "      <td>0</td>\n",
       "      <td>0</td>\n",
       "      <td>0</td>\n",
       "      <td>0</td>\n",
       "      <td>0</td>\n",
       "    </tr>\n",
       "    <tr>\n",
       "      <th>3</th>\n",
       "      <td>1 win &amp; 2 nominations.</td>\n",
       "      <td>1</td>\n",
       "      <td>2</td>\n",
       "      <td>0</td>\n",
       "      <td>0</td>\n",
       "      <td>0</td>\n",
       "      <td>0</td>\n",
       "      <td>0</td>\n",
       "      <td>0</td>\n",
       "      <td>0</td>\n",
       "      <td>0</td>\n",
       "    </tr>\n",
       "    <tr>\n",
       "      <th>4</th>\n",
       "      <td>1 win.</td>\n",
       "      <td>1</td>\n",
       "      <td>0</td>\n",
       "      <td>0</td>\n",
       "      <td>0</td>\n",
       "      <td>0</td>\n",
       "      <td>0</td>\n",
       "      <td>0</td>\n",
       "      <td>0</td>\n",
       "      <td>0</td>\n",
       "      <td>0</td>\n",
       "    </tr>\n",
       "  </tbody>\n",
       "</table>\n",
       "</div>"
      ],
      "text/plain": [
       "                   Awards  Awards_Won  Awards_Nominated  PrimeAwards_Won  \\\n",
       "0                       0           0                 0                0   \n",
       "1                       0           0                 0                0   \n",
       "2                       0           0                 0                0   \n",
       "3  1 win & 2 nominations.           1                 2                0   \n",
       "4                  1 win.           1                 0                0   \n",
       "\n",
       "   PrimeAwards_Nominations  BaftaAwards_Won  BaftaAwards_Nominations  \\\n",
       "0                        0                0                        0   \n",
       "1                        0                0                        0   \n",
       "2                        0                0                        0   \n",
       "3                        0                0                        0   \n",
       "4                        0                0                        0   \n",
       "\n",
       "   OscarAwards_Won  OscarAwards_Nominations  GoldenGlobeAwards_Won  \\\n",
       "0                0                        0                      0   \n",
       "1                0                        0                      0   \n",
       "2                0                        0                      0   \n",
       "3                0                        0                      0   \n",
       "4                0                        0                      0   \n",
       "\n",
       "   GoldenGlobeAwards_Nominations  \n",
       "0                              0  \n",
       "1                              0  \n",
       "2                              0  \n",
       "3                              0  \n",
       "4                              0  "
      ]
     },
     "execution_count": 122,
     "metadata": {},
     "output_type": "execute_result"
    }
   ],
   "source": [
    "df1.head()"
   ]
  },
  {
   "cell_type": "code",
   "execution_count": 123,
   "metadata": {
    "collapsed": true
   },
   "outputs": [],
   "source": [
    "df1.to_csv('awards.csv')"
   ]
  },
  {
   "cell_type": "code",
   "execution_count": null,
   "metadata": {
    "collapsed": true
   },
   "outputs": [],
   "source": []
  }
 ],
 "metadata": {
  "anaconda-cloud": {},
  "kernelspec": {
   "display_name": "Python [conda root]",
   "language": "python",
   "name": "conda-root-py"
  },
  "language_info": {
   "codemirror_mode": {
    "name": "ipython",
    "version": 3
   },
   "file_extension": ".py",
   "mimetype": "text/x-python",
   "name": "python",
   "nbconvert_exporter": "python",
   "pygments_lexer": "ipython3",
   "version": "3.5.2"
  }
 },
 "nbformat": 4,
 "nbformat_minor": 1
}
